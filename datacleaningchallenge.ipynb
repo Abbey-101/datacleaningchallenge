{
 "cells": [
  {
   "cell_type": "markdown",
   "id": "dc8f3aed",
   "metadata": {},
   "source": [
    "# Data Cleaning Challenge."
   ]
  },
  {
   "cell_type": "raw",
   "id": "e377e45f",
   "metadata": {},
   "source": [
    "The fifa21 dataset contains some info. on some football players in fifa21.\n",
    "There's a total of are 18979 players(i.e rows) in this dataset and 76 columns. \n",
    "The goal of this challenge is to clean up the data and get it ready for EDA. We'll be doing a teeny-weeny of analysis along the way..hehe"
   ]
  },
  {
   "cell_type": "raw",
   "id": "13d9e419",
   "metadata": {},
   "source": [
    "What each columns contains...\n",
    "\n",
    "Name- The name of the player.\n",
    "LongName- The full name of the player, including other names.\n",
    "photoUrl- Link to the photo of the player.\n",
    "playerUrl- Link to the player's page.\n",
    "Nationality- The nationality of the player.\n",
    "Age- The age of the player.\n",
    "↓OVA- The overall rating of the player.\n",
    "POT- The potential rating of the player in fifa21.\n",
    "Club- The club the player plays for.\n",
    "Contract - The contract details.\n",
    "Positions- The positions the player can play in.\n",
    "Height - The player's height in cm. \n",
    "Weight - The player's weight in kg.\n",
    "Preferred Foot - The preferred of the player. \n",
    "BOV - The best overall rating the player has achieved in his career.\n",
    "Best Position - The best position the player has played in his career.\n",
    "Joined - The date the player joined his current club.\n",
    "Loan Date End - The date the loan deal of the players would end.\n",
    "Value - The market value of the player in fifa21.\n",
    "Wage - The weekly wage of the player in fifa21.\n",
    "Release Clause - The release clause value of the player in fifa21.\n",
    "Attacking - The attacking attributes of the player.\n",
    "Crossing  - The crossing attribute of the player.\n",
    "Finishing - The finishing attribute of the player.\n",
    "Heading Accuracy - The heading accuracy of the player.\n",
    "Short Passing - The short passing attribute of the player.\n",
    "Volleys - The volley attribute of the player.\n",
    "Skill - The skill attribute of the player.\n",
    "Dribbling - The dribbling attribute of the player.\n",
    "Curve  - The curve attribute of the player.\n",
    "FK Accuracy - The freekick accuracy of the player.\n",
    "Long Passing  - The long passing attribute of the player.\n",
    "Ball Control - The ball control attribute of the player.\n",
    "Movement -The movement attribute of the player.\n",
    "Acceleration  - The acceleration attribute of the player.\n",
    "Sprint Speed   - The sprint speed attribute of the player.\n",
    "Agility - The agility attribute of the player.  \n",
    "Reactions  - The reactions attribute of the player.\n",
    "Balance - The balance attribute of the player.     \n",
    "Power  - The power attribute of the player.    \n",
    "Shot Power - The shot power attribute of the player.   \n",
    "Jumping  - The jumping attribute of the player.\n",
    "Stamina - The stamina of the player. \n",
    "Strength  - The strength of the player.\n",
    "Long Shots  -  The long shots attribute of the player.\n",
    "Mentality  -  The mentality attribute of the player.\n",
    "Aggression  - The aggression attribute of the player.\n",
    "Interceptions - The ball interception attribute of the player.\n",
    "Positioning  -  A measure of how good the player's positioning attribute is.\n",
    "Vision -   The vision attribute of the player on the pitch.\n",
    "Penalties -  A measure of how good the player is at scoring penalties.\n",
    "Composure -  The composure of the player.\n",
    "Defending  - The defending ability of the player.\n",
    "Marking   - The marking ability of the player.\n",
    "Standing Tackle -  The standing tackle attribute of the player.\n",
    "Sliding Tackle - The sliding tackle attribute of the player.\n",
    "Goalkeeping  - The goal keeping attribute of the player.\n",
    "GK Diving   - The goalkeeper diving attribute of the player.\n",
    "GK Handling  -  The goalkeeper handling attribute of the player.\n",
    "GK Kicking  -  The goalkeeper kicking attribute of the player.\n",
    "GK Positioning  - The goalkeeper positioning attribute of the player.\n",
    "GK Reflexes - The goalkeeping reflexes of the player.\n",
    "Total Stats - The overall rating of the player based on their performance in all areas of the game.\n",
    "Base Stats  - The player's rating in pace, dribbling, defending and physicality.\n",
    "W/F  - The player's weaker foot.\n",
    "SM    - The player's skill move ability.\n",
    "A/W   - A measure of the attacking/offensive ability of the player.\n",
    "D/W    - The defending workrate of the player.\n",
    "IR    - The player's injury resistance. \n",
    "PAC   - The player's pace or speed.\n",
    "SHO   - The player's shooting ability. \n",
    "PAS  - The player's passing ability.\n",
    "DRI  - The player's dribbling ability.\n",
    "DEF - The player's defensive ability- tackling, interceptions, etc.\n",
    "PHY  - The player's physicality or strength.\n",
    "Hits - Number of times the player's profile has been viewed."
   ]
  },
  {
   "cell_type": "code",
   "execution_count": null,
   "id": "3648023e",
   "metadata": {},
   "outputs": [],
   "source": []
  },
  {
   "cell_type": "code",
   "execution_count": 1,
   "id": "dd944840",
   "metadata": {},
   "outputs": [],
   "source": [
    "#importing libraries for data manipulations/processing\n",
    "\n",
    "import numpy as np\n",
    "import pandas as pd"
   ]
  },
  {
   "cell_type": "code",
   "execution_count": 2,
   "id": "fd073fcf",
   "metadata": {},
   "outputs": [],
   "source": [
    "#importing libraries for visualizations\n",
    "\n",
    "import matplotlib.pyplot as plt\n",
    "import seaborn as sns\n",
    "\n",
    "%matplotlib inline"
   ]
  },
  {
   "cell_type": "code",
   "execution_count": null,
   "id": "a86025e3",
   "metadata": {},
   "outputs": [],
   "source": []
  },
  {
   "cell_type": "code",
   "execution_count": 3,
   "id": "43d42140",
   "metadata": {},
   "outputs": [
    {
     "name": "stderr",
     "output_type": "stream",
     "text": [
      "C:\\Users\\USER\\AppData\\Local\\Temp\\ipykernel_11108\\1313449408.py:2: DtypeWarning: Columns (76) have mixed types. Specify dtype option on import or set low_memory=False.\n",
      "  fifa = pd.read_csv('fifa21 raw data v2.csv')\n"
     ]
    }
   ],
   "source": [
    "#importing the dataset\n",
    "fifa = pd.read_csv('fifa21 raw data v2.csv')"
   ]
  },
  {
   "cell_type": "code",
   "execution_count": 4,
   "id": "4976798a",
   "metadata": {
    "scrolled": true
   },
   "outputs": [
    {
     "data": {
      "text/html": [
       "<div>\n",
       "<style scoped>\n",
       "    .dataframe tbody tr th:only-of-type {\n",
       "        vertical-align: middle;\n",
       "    }\n",
       "\n",
       "    .dataframe tbody tr th {\n",
       "        vertical-align: top;\n",
       "    }\n",
       "\n",
       "    .dataframe thead th {\n",
       "        text-align: right;\n",
       "    }\n",
       "</style>\n",
       "<table border=\"1\" class=\"dataframe\">\n",
       "  <thead>\n",
       "    <tr style=\"text-align: right;\">\n",
       "      <th></th>\n",
       "      <th>ID</th>\n",
       "      <th>Name</th>\n",
       "      <th>LongName</th>\n",
       "      <th>photoUrl</th>\n",
       "      <th>playerUrl</th>\n",
       "      <th>Nationality</th>\n",
       "      <th>Age</th>\n",
       "      <th>↓OVA</th>\n",
       "      <th>POT</th>\n",
       "      <th>Club</th>\n",
       "      <th>...</th>\n",
       "      <th>A/W</th>\n",
       "      <th>D/W</th>\n",
       "      <th>IR</th>\n",
       "      <th>PAC</th>\n",
       "      <th>SHO</th>\n",
       "      <th>PAS</th>\n",
       "      <th>DRI</th>\n",
       "      <th>DEF</th>\n",
       "      <th>PHY</th>\n",
       "      <th>Hits</th>\n",
       "    </tr>\n",
       "  </thead>\n",
       "  <tbody>\n",
       "    <tr>\n",
       "      <th>0</th>\n",
       "      <td>158023</td>\n",
       "      <td>L. Messi</td>\n",
       "      <td>Lionel Messi</td>\n",
       "      <td>https://cdn.sofifa.com/players/158/023/21_60.png</td>\n",
       "      <td>http://sofifa.com/player/158023/lionel-messi/2...</td>\n",
       "      <td>Argentina</td>\n",
       "      <td>33</td>\n",
       "      <td>93</td>\n",
       "      <td>93</td>\n",
       "      <td>\\n\\n\\n\\nFC Barcelona</td>\n",
       "      <td>...</td>\n",
       "      <td>Medium</td>\n",
       "      <td>Low</td>\n",
       "      <td>5 ★</td>\n",
       "      <td>85</td>\n",
       "      <td>92</td>\n",
       "      <td>91</td>\n",
       "      <td>95</td>\n",
       "      <td>38</td>\n",
       "      <td>65</td>\n",
       "      <td>771</td>\n",
       "    </tr>\n",
       "    <tr>\n",
       "      <th>1</th>\n",
       "      <td>20801</td>\n",
       "      <td>Cristiano Ronaldo</td>\n",
       "      <td>C. Ronaldo dos Santos Aveiro</td>\n",
       "      <td>https://cdn.sofifa.com/players/020/801/21_60.png</td>\n",
       "      <td>http://sofifa.com/player/20801/c-ronaldo-dos-s...</td>\n",
       "      <td>Portugal</td>\n",
       "      <td>35</td>\n",
       "      <td>92</td>\n",
       "      <td>92</td>\n",
       "      <td>\\n\\n\\n\\nJuventus</td>\n",
       "      <td>...</td>\n",
       "      <td>High</td>\n",
       "      <td>Low</td>\n",
       "      <td>5 ★</td>\n",
       "      <td>89</td>\n",
       "      <td>93</td>\n",
       "      <td>81</td>\n",
       "      <td>89</td>\n",
       "      <td>35</td>\n",
       "      <td>77</td>\n",
       "      <td>562</td>\n",
       "    </tr>\n",
       "    <tr>\n",
       "      <th>2</th>\n",
       "      <td>200389</td>\n",
       "      <td>J. Oblak</td>\n",
       "      <td>Jan Oblak</td>\n",
       "      <td>https://cdn.sofifa.com/players/200/389/21_60.png</td>\n",
       "      <td>http://sofifa.com/player/200389/jan-oblak/210006/</td>\n",
       "      <td>Slovenia</td>\n",
       "      <td>27</td>\n",
       "      <td>91</td>\n",
       "      <td>93</td>\n",
       "      <td>\\n\\n\\n\\nAtlético Madrid</td>\n",
       "      <td>...</td>\n",
       "      <td>Medium</td>\n",
       "      <td>Medium</td>\n",
       "      <td>3 ★</td>\n",
       "      <td>87</td>\n",
       "      <td>92</td>\n",
       "      <td>78</td>\n",
       "      <td>90</td>\n",
       "      <td>52</td>\n",
       "      <td>90</td>\n",
       "      <td>150</td>\n",
       "    </tr>\n",
       "    <tr>\n",
       "      <th>3</th>\n",
       "      <td>192985</td>\n",
       "      <td>K. De Bruyne</td>\n",
       "      <td>Kevin De Bruyne</td>\n",
       "      <td>https://cdn.sofifa.com/players/192/985/21_60.png</td>\n",
       "      <td>http://sofifa.com/player/192985/kevin-de-bruyn...</td>\n",
       "      <td>Belgium</td>\n",
       "      <td>29</td>\n",
       "      <td>91</td>\n",
       "      <td>91</td>\n",
       "      <td>\\n\\n\\n\\nManchester City</td>\n",
       "      <td>...</td>\n",
       "      <td>High</td>\n",
       "      <td>High</td>\n",
       "      <td>4 ★</td>\n",
       "      <td>76</td>\n",
       "      <td>86</td>\n",
       "      <td>93</td>\n",
       "      <td>88</td>\n",
       "      <td>64</td>\n",
       "      <td>78</td>\n",
       "      <td>207</td>\n",
       "    </tr>\n",
       "    <tr>\n",
       "      <th>4</th>\n",
       "      <td>190871</td>\n",
       "      <td>Neymar Jr</td>\n",
       "      <td>Neymar da Silva Santos Jr.</td>\n",
       "      <td>https://cdn.sofifa.com/players/190/871/21_60.png</td>\n",
       "      <td>http://sofifa.com/player/190871/neymar-da-silv...</td>\n",
       "      <td>Brazil</td>\n",
       "      <td>28</td>\n",
       "      <td>91</td>\n",
       "      <td>91</td>\n",
       "      <td>\\n\\n\\n\\nParis Saint-Germain</td>\n",
       "      <td>...</td>\n",
       "      <td>High</td>\n",
       "      <td>Medium</td>\n",
       "      <td>5 ★</td>\n",
       "      <td>91</td>\n",
       "      <td>85</td>\n",
       "      <td>86</td>\n",
       "      <td>94</td>\n",
       "      <td>36</td>\n",
       "      <td>59</td>\n",
       "      <td>595</td>\n",
       "    </tr>\n",
       "  </tbody>\n",
       "</table>\n",
       "<p>5 rows × 77 columns</p>\n",
       "</div>"
      ],
      "text/plain": [
       "       ID               Name                      LongName  \\\n",
       "0  158023           L. Messi                  Lionel Messi   \n",
       "1   20801  Cristiano Ronaldo  C. Ronaldo dos Santos Aveiro   \n",
       "2  200389           J. Oblak                     Jan Oblak   \n",
       "3  192985       K. De Bruyne               Kevin De Bruyne   \n",
       "4  190871          Neymar Jr    Neymar da Silva Santos Jr.   \n",
       "\n",
       "                                           photoUrl  \\\n",
       "0  https://cdn.sofifa.com/players/158/023/21_60.png   \n",
       "1  https://cdn.sofifa.com/players/020/801/21_60.png   \n",
       "2  https://cdn.sofifa.com/players/200/389/21_60.png   \n",
       "3  https://cdn.sofifa.com/players/192/985/21_60.png   \n",
       "4  https://cdn.sofifa.com/players/190/871/21_60.png   \n",
       "\n",
       "                                           playerUrl Nationality  Age  ↓OVA  \\\n",
       "0  http://sofifa.com/player/158023/lionel-messi/2...   Argentina   33    93   \n",
       "1  http://sofifa.com/player/20801/c-ronaldo-dos-s...    Portugal   35    92   \n",
       "2  http://sofifa.com/player/200389/jan-oblak/210006/    Slovenia   27    91   \n",
       "3  http://sofifa.com/player/192985/kevin-de-bruyn...     Belgium   29    91   \n",
       "4  http://sofifa.com/player/190871/neymar-da-silv...      Brazil   28    91   \n",
       "\n",
       "   POT                         Club  ...     A/W     D/W   IR PAC SHO  PAS  \\\n",
       "0   93         \\n\\n\\n\\nFC Barcelona  ...  Medium     Low  5 ★  85  92   91   \n",
       "1   92             \\n\\n\\n\\nJuventus  ...    High     Low  5 ★  89  93   81   \n",
       "2   93      \\n\\n\\n\\nAtlético Madrid  ...  Medium  Medium  3 ★  87  92   78   \n",
       "3   91      \\n\\n\\n\\nManchester City  ...    High    High  4 ★  76  86   93   \n",
       "4   91  \\n\\n\\n\\nParis Saint-Germain  ...    High  Medium  5 ★  91  85   86   \n",
       "\n",
       "  DRI DEF PHY Hits  \n",
       "0  95  38  65  771  \n",
       "1  89  35  77  562  \n",
       "2  90  52  90  150  \n",
       "3  88  64  78  207  \n",
       "4  94  36  59  595  \n",
       "\n",
       "[5 rows x 77 columns]"
      ]
     },
     "execution_count": 4,
     "metadata": {},
     "output_type": "execute_result"
    }
   ],
   "source": [
    "#just a peek of how the dataset looks like.\n",
    "fifa.head()"
   ]
  },
  {
   "cell_type": "code",
   "execution_count": 5,
   "id": "c17887e4",
   "metadata": {
    "scrolled": true
   },
   "outputs": [
    {
     "name": "stdout",
     "output_type": "stream",
     "text": [
      "<class 'pandas.core.frame.DataFrame'>\n",
      "RangeIndex: 18979 entries, 0 to 18978\n",
      "Data columns (total 77 columns):\n",
      " #   Column            Non-Null Count  Dtype \n",
      "---  ------            --------------  ----- \n",
      " 0   ID                18979 non-null  int64 \n",
      " 1   Name              18979 non-null  object\n",
      " 2   LongName          18979 non-null  object\n",
      " 3   photoUrl          18979 non-null  object\n",
      " 4   playerUrl         18979 non-null  object\n",
      " 5   Nationality       18979 non-null  object\n",
      " 6   Age               18979 non-null  int64 \n",
      " 7   ↓OVA              18979 non-null  int64 \n",
      " 8   POT               18979 non-null  int64 \n",
      " 9   Club              18979 non-null  object\n",
      " 10  Contract          18979 non-null  object\n",
      " 11  Positions         18979 non-null  object\n",
      " 12  Height            18979 non-null  object\n",
      " 13  Weight            18979 non-null  object\n",
      " 14  Preferred Foot    18979 non-null  object\n",
      " 15  BOV               18979 non-null  int64 \n",
      " 16  Best Position     18979 non-null  object\n",
      " 17  Joined            18979 non-null  object\n",
      " 18  Loan Date End     1013 non-null   object\n",
      " 19  Value             18979 non-null  object\n",
      " 20  Wage              18979 non-null  object\n",
      " 21  Release Clause    18979 non-null  object\n",
      " 22  Attacking         18979 non-null  int64 \n",
      " 23  Crossing          18979 non-null  int64 \n",
      " 24  Finishing         18979 non-null  int64 \n",
      " 25  Heading Accuracy  18979 non-null  int64 \n",
      " 26  Short Passing     18979 non-null  int64 \n",
      " 27  Volleys           18979 non-null  int64 \n",
      " 28  Skill             18979 non-null  int64 \n",
      " 29  Dribbling         18979 non-null  int64 \n",
      " 30  Curve             18979 non-null  int64 \n",
      " 31  FK Accuracy       18979 non-null  int64 \n",
      " 32  Long Passing      18979 non-null  int64 \n",
      " 33  Ball Control      18979 non-null  int64 \n",
      " 34  Movement          18979 non-null  int64 \n",
      " 35  Acceleration      18979 non-null  int64 \n",
      " 36  Sprint Speed      18979 non-null  int64 \n",
      " 37  Agility           18979 non-null  int64 \n",
      " 38  Reactions         18979 non-null  int64 \n",
      " 39  Balance           18979 non-null  int64 \n",
      " 40  Power             18979 non-null  int64 \n",
      " 41  Shot Power        18979 non-null  int64 \n",
      " 42  Jumping           18979 non-null  int64 \n",
      " 43  Stamina           18979 non-null  int64 \n",
      " 44  Strength          18979 non-null  int64 \n",
      " 45  Long Shots        18979 non-null  int64 \n",
      " 46  Mentality         18979 non-null  int64 \n",
      " 47  Aggression        18979 non-null  int64 \n",
      " 48  Interceptions     18979 non-null  int64 \n",
      " 49  Positioning       18979 non-null  int64 \n",
      " 50  Vision            18979 non-null  int64 \n",
      " 51  Penalties         18979 non-null  int64 \n",
      " 52  Composure         18979 non-null  int64 \n",
      " 53  Defending         18979 non-null  int64 \n",
      " 54  Marking           18979 non-null  int64 \n",
      " 55  Standing Tackle   18979 non-null  int64 \n",
      " 56  Sliding Tackle    18979 non-null  int64 \n",
      " 57  Goalkeeping       18979 non-null  int64 \n",
      " 58  GK Diving         18979 non-null  int64 \n",
      " 59  GK Handling       18979 non-null  int64 \n",
      " 60  GK Kicking        18979 non-null  int64 \n",
      " 61  GK Positioning    18979 non-null  int64 \n",
      " 62  GK Reflexes       18979 non-null  int64 \n",
      " 63  Total Stats       18979 non-null  int64 \n",
      " 64  Base Stats        18979 non-null  int64 \n",
      " 65  W/F               18979 non-null  object\n",
      " 66  SM                18979 non-null  object\n",
      " 67  A/W               18979 non-null  object\n",
      " 68  D/W               18979 non-null  object\n",
      " 69  IR                18979 non-null  object\n",
      " 70  PAC               18979 non-null  int64 \n",
      " 71  SHO               18979 non-null  int64 \n",
      " 72  PAS               18979 non-null  int64 \n",
      " 73  DRI               18979 non-null  int64 \n",
      " 74  DEF               18979 non-null  int64 \n",
      " 75  PHY               18979 non-null  int64 \n",
      " 76  Hits              16384 non-null  object\n",
      "dtypes: int64(54), object(23)\n",
      "memory usage: 11.1+ MB\n"
     ]
    }
   ],
   "source": [
    "fifa.info()"
   ]
  },
  {
   "cell_type": "code",
   "execution_count": null,
   "id": "b861855f",
   "metadata": {},
   "outputs": [],
   "source": []
  },
  {
   "cell_type": "code",
   "execution_count": 6,
   "id": "3b98c907",
   "metadata": {
    "scrolled": true
   },
   "outputs": [
    {
     "name": "stdout",
     "output_type": "stream",
     "text": [
      "ID                      0\n",
      "Name                    0\n",
      "LongName                0\n",
      "photoUrl                0\n",
      "playerUrl               0\n",
      "Nationality             0\n",
      "Age                     0\n",
      "↓OVA                    0\n",
      "POT                     0\n",
      "Club                    0\n",
      "Contract                0\n",
      "Positions               0\n",
      "Height                  0\n",
      "Weight                  0\n",
      "Preferred Foot          0\n",
      "BOV                     0\n",
      "Best Position           0\n",
      "Joined                  0\n",
      "Loan Date End       17966\n",
      "Value                   0\n",
      "Wage                    0\n",
      "Release Clause          0\n",
      "Attacking               0\n",
      "Crossing                0\n",
      "Finishing               0\n",
      "Heading Accuracy        0\n",
      "Short Passing           0\n",
      "Volleys                 0\n",
      "Skill                   0\n",
      "Dribbling               0\n",
      "Curve                   0\n",
      "FK Accuracy             0\n",
      "Long Passing            0\n",
      "Ball Control            0\n",
      "Movement                0\n",
      "Acceleration            0\n",
      "Sprint Speed            0\n",
      "Agility                 0\n",
      "Reactions               0\n",
      "Balance                 0\n",
      "Power                   0\n",
      "Shot Power              0\n",
      "Jumping                 0\n",
      "Stamina                 0\n",
      "Strength                0\n",
      "Long Shots              0\n",
      "Mentality               0\n",
      "Aggression              0\n",
      "Interceptions           0\n",
      "Positioning             0\n",
      "Vision                  0\n",
      "Penalties               0\n",
      "Composure               0\n",
      "Defending               0\n",
      "Marking                 0\n",
      "Standing Tackle         0\n",
      "Sliding Tackle          0\n",
      "Goalkeeping             0\n",
      "GK Diving               0\n",
      "GK Handling             0\n",
      "GK Kicking              0\n",
      "GK Positioning          0\n",
      "GK Reflexes             0\n",
      "Total Stats             0\n",
      "Base Stats              0\n",
      "W/F                     0\n",
      "SM                      0\n",
      "A/W                     0\n",
      "D/W                     0\n",
      "IR                      0\n",
      "PAC                     0\n",
      "SHO                     0\n",
      "PAS                     0\n",
      "DRI                     0\n",
      "DEF                     0\n",
      "PHY                     0\n",
      "Hits                 2595\n"
     ]
    }
   ],
   "source": [
    "#checking for null values\n",
    "print(fifa.isnull().sum().to_string())"
   ]
  },
  {
   "cell_type": "code",
   "execution_count": 7,
   "id": "723e4779",
   "metadata": {
    "scrolled": false
   },
   "outputs": [
    {
     "data": {
      "text/plain": [
       "<AxesSubplot:>"
      ]
     },
     "execution_count": 7,
     "metadata": {},
     "output_type": "execute_result"
    },
    {
     "data": {
      "image/png": "[encoded data removed]",
      "text/plain": [
       "<Figure size 1080x720 with 2 Axes>"
      ]
     },
     "metadata": {
      "needs_background": "light"
     },
     "output_type": "display_data"
    }
   ],
   "source": [
    "plt.figure(figsize=(15,10))\n",
    "sns.heatmap(fifa.isnull(), cmap='magma')"
   ]
  },
  {
   "cell_type": "code",
   "execution_count": 8,
   "id": "966d142d",
   "metadata": {},
   "outputs": [
    {
     "data": {
      "text/plain": [
       "0"
      ]
     },
     "execution_count": 8,
     "metadata": {},
     "output_type": "execute_result"
    }
   ],
   "source": [
    "#checking for duplicated records\n",
    "fifa.duplicated().sum()"
   ]
  },
  {
   "cell_type": "markdown",
   "id": "81e9485a",
   "metadata": {},
   "source": [
    "From these we can notice that the Hits and Loan Date end columns have a number of missing values.\n",
    "And there are no duplicated records."
   ]
  },
  {
   "cell_type": "markdown",
   "id": "312e1a0e",
   "metadata": {},
   "source": [
    "We have to try to find out why there are missing values in those columns before we could do anything on them."
   ]
  },
  {
   "cell_type": "code",
   "execution_count": 9,
   "id": "b9d94a8f",
   "metadata": {
    "scrolled": true
   },
   "outputs": [
    {
     "data": {
      "text/plain": [
       "0        771\n",
       "1        562\n",
       "2        150\n",
       "3        207\n",
       "4        595\n",
       "        ... \n",
       "18974    NaN\n",
       "18975    NaN\n",
       "18976    NaN\n",
       "18977    NaN\n",
       "18978    NaN\n",
       "Name: Hits, Length: 18979, dtype: object"
      ]
     },
     "execution_count": 9,
     "metadata": {},
     "output_type": "execute_result"
    }
   ],
   "source": [
    "fifa['Hits']"
   ]
  },
  {
   "cell_type": "code",
   "execution_count": 10,
   "id": "868d97d0",
   "metadata": {},
   "outputs": [
    {
     "data": {
      "text/plain": [
       "False"
      ]
     },
     "execution_count": 10,
     "metadata": {},
     "output_type": "execute_result"
    }
   ],
   "source": [
    "#Number of players with the hits column as 0\n",
    "0 in fifa['Hits'].unique()"
   ]
  },
  {
   "cell_type": "markdown",
   "id": "48bbea29",
   "metadata": {},
   "source": [
    "From the above, we can deduce that they may be values were intentionally left missing because no one has visited the players url, i.e it missing values are 0.\n",
    "or, it may be due to lost of some data or any other problem.\n",
    "We may drop the Hits columns, or rather we fill in the missing values with zeros, this way we still keep the infos the column can still provide for us instead of dropping it.  "
   ]
  },
  {
   "cell_type": "code",
   "execution_count": 11,
   "id": "5e460300",
   "metadata": {},
   "outputs": [],
   "source": [
    "fifa['Hits'].fillna(0, inplace= True)"
   ]
  },
  {
   "cell_type": "code",
   "execution_count": 12,
   "id": "5a9d9d05",
   "metadata": {},
   "outputs": [
    {
     "data": {
      "text/plain": [
       "0"
      ]
     },
     "execution_count": 12,
     "metadata": {},
     "output_type": "execute_result"
    }
   ],
   "source": [
    "fifa['Hits'].isnull().sum()"
   ]
  },
  {
   "cell_type": "markdown",
   "id": "488a0917",
   "metadata": {},
   "source": [
    "With that done with, let's checkout the LoanDate end column next"
   ]
  },
  {
   "cell_type": "code",
   "execution_count": 13,
   "id": "6bfbfaa4",
   "metadata": {},
   "outputs": [
    {
     "data": {
      "text/plain": [
       "205      Jun 30, 2021\n",
       "248      Jun 30, 2021\n",
       "254      Jun 30, 2021\n",
       "302      Jun 30, 2021\n",
       "306      Jun 30, 2021\n",
       "             ...     \n",
       "18472    Aug 31, 2021\n",
       "18571    Jun 30, 2021\n",
       "18600    Dec 31, 2020\n",
       "18622    Dec 31, 2020\n",
       "18680    Dec 31, 2020\n",
       "Name: Loan Date End, Length: 1013, dtype: object"
      ]
     },
     "execution_count": 13,
     "metadata": {},
     "output_type": "execute_result"
    }
   ],
   "source": [
    "fifa['Loan Date End'][fifa['Loan Date End'].notnull()]"
   ]
  },
  {
   "cell_type": "code",
   "execution_count": 14,
   "id": "ac084ec2",
   "metadata": {},
   "outputs": [
    {
     "data": {
      "text/plain": [
       "Jun 30, 2021    770\n",
       "Dec 31, 2020    100\n",
       "May 31, 2021     30\n",
       "Dec 31, 2021     22\n",
       "Jan 31, 2021     18\n",
       "Jan 1, 2021      15\n",
       "Jun 30, 2022     15\n",
       "Nov 30, 2020      7\n",
       "Jun 23, 2021      7\n",
       "Nov 27, 2021      6\n",
       "Nov 22, 2020      5\n",
       "Jan 3, 2021       3\n",
       "Aug 31, 2021      2\n",
       "May 31, 2022      2\n",
       "Jan 4, 2021       2\n",
       "Jul 1, 2021       1\n",
       "Dec 30, 2021      1\n",
       "Jul 5, 2021       1\n",
       "Jan 17, 2021      1\n",
       "Jun 30, 2023      1\n",
       "Jul 31, 2021      1\n",
       "Dec 30, 2020      1\n",
       "Jan 30, 2021      1\n",
       "Aug 1, 2021       1\n",
       "Name: Loan Date End, dtype: int64"
      ]
     },
     "execution_count": 14,
     "metadata": {},
     "output_type": "execute_result"
    }
   ],
   "source": [
    "fifa['Loan Date End'].value_counts()"
   ]
  },
  {
   "cell_type": "markdown",
   "id": "92bb3306",
   "metadata": {},
   "source": [
    "According to the table all the players(aside those with missing values) are on loan deals, which is kinda fishy. \n",
    "We can assume that the missing values may not be on loan deals, that's why they were left as missing values(we can confirm this by checking some of the players' contract deals on the internet).\n",
    " \n",
    "So, we can fill in the missing values with 'Not Loan'."
   ]
  },
  {
   "cell_type": "code",
   "execution_count": 15,
   "id": "0c8288a6",
   "metadata": {},
   "outputs": [],
   "source": [
    "fifa['Loan Date End'].fillna('Not loan', inplace= True)"
   ]
  },
  {
   "cell_type": "code",
   "execution_count": null,
   "id": "383c193d",
   "metadata": {},
   "outputs": [],
   "source": []
  },
  {
   "cell_type": "markdown",
   "id": "56dc9a34",
   "metadata": {},
   "source": [
    "Let's checkout other columns..."
   ]
  },
  {
   "cell_type": "code",
   "execution_count": 16,
   "id": "584ec2bd",
   "metadata": {},
   "outputs": [
    {
     "data": {
      "text/plain": [
       "0                 L. Messi\n",
       "1        Cristiano Ronaldo\n",
       "2                 J. Oblak\n",
       "3             K. De Bruyne\n",
       "4                Neymar Jr\n",
       "               ...        \n",
       "18974               Xia Ao\n",
       "18975             B. Hough\n",
       "18976          R. McKinley\n",
       "18977         Wang Zhen'ao\n",
       "18978            Zhou Xiao\n",
       "Name: Name, Length: 18979, dtype: object"
      ]
     },
     "execution_count": 16,
     "metadata": {},
     "output_type": "execute_result"
    }
   ],
   "source": [
    "fifa['Name']"
   ]
  },
  {
   "cell_type": "code",
   "execution_count": 17,
   "id": "79ea06fd",
   "metadata": {},
   "outputs": [
    {
     "data": {
      "text/plain": [
       "0                        Lionel Messi\n",
       "1        C. Ronaldo dos Santos Aveiro\n",
       "2                           Jan Oblak\n",
       "3                     Kevin De Bruyne\n",
       "4          Neymar da Silva Santos Jr.\n",
       "                     ...             \n",
       "18974                          Ao Xia\n",
       "18975                       Ben Hough\n",
       "18976                  Ronan McKinley\n",
       "18977                    Zhen'ao Wang\n",
       "18978                       Xiao Zhou\n",
       "Name: LongName, Length: 18979, dtype: object"
      ]
     },
     "execution_count": 17,
     "metadata": {},
     "output_type": "execute_result"
    }
   ],
   "source": [
    "fifa['LongName']"
   ]
  },
  {
   "cell_type": "markdown",
   "id": "dd56b66e",
   "metadata": {},
   "source": [
    "We'll be dropping the Name column because it's almost same as the LongName column, except that the LongName column contains more info. than it does.\n",
    "So its logical that we keep the LongName column and drop the Name column instead."
   ]
  },
  {
   "cell_type": "code",
   "execution_count": 18,
   "id": "cae3894a",
   "metadata": {},
   "outputs": [],
   "source": [
    "fifa.drop('Name', axis=1, inplace=True)"
   ]
  },
  {
   "cell_type": "code",
   "execution_count": null,
   "id": "53c76129",
   "metadata": {},
   "outputs": [],
   "source": []
  },
  {
   "cell_type": "code",
   "execution_count": 19,
   "id": "29777039",
   "metadata": {},
   "outputs": [
    {
     "data": {
      "text/plain": [
       "0        https://cdn.sofifa.com/players/158/023/21_60.png\n",
       "1        https://cdn.sofifa.com/players/020/801/21_60.png\n",
       "2        https://cdn.sofifa.com/players/200/389/21_60.png\n",
       "3        https://cdn.sofifa.com/players/192/985/21_60.png\n",
       "4        https://cdn.sofifa.com/players/190/871/21_60.png\n",
       "                               ...                       \n",
       "18974    https://cdn.sofifa.com/players/247/223/21_60.png\n",
       "18975    https://cdn.sofifa.com/players/258/760/21_60.png\n",
       "18976    https://cdn.sofifa.com/players/252/757/21_60.png\n",
       "18977    https://cdn.sofifa.com/players/243/790/21_60.png\n",
       "18978    https://cdn.sofifa.com/players/252/520/21_60.png\n",
       "Name: photoUrl, Length: 18979, dtype: object"
      ]
     },
     "execution_count": 19,
     "metadata": {},
     "output_type": "execute_result"
    }
   ],
   "source": [
    "fifa.photoUrl"
   ]
  },
  {
   "cell_type": "code",
   "execution_count": null,
   "id": "282a946b",
   "metadata": {},
   "outputs": [],
   "source": []
  },
  {
   "cell_type": "markdown",
   "id": "ae7ab32a",
   "metadata": {},
   "source": [
    "Just btw, there's a total of 164 different countries in the dataset. Majority of the players are from England, Germany, Spain, France, Argentina or Brazil."
   ]
  },
  {
   "cell_type": "code",
   "execution_count": 20,
   "id": "e8eb7ce8",
   "metadata": {},
   "outputs": [
    {
     "data": {
      "text/plain": [
       "164"
      ]
     },
     "execution_count": 20,
     "metadata": {},
     "output_type": "execute_result"
    }
   ],
   "source": [
    "#total number of countries\n",
    "fifa['Nationality'].nunique()"
   ]
  },
  {
   "cell_type": "code",
   "execution_count": 21,
   "id": "60b93b66",
   "metadata": {},
   "outputs": [
    {
     "data": {
      "text/plain": [
       "England        1705\n",
       "Germany        1195\n",
       "Spain          1065\n",
       "France         1003\n",
       "Argentina       943\n",
       "Brazil          887\n",
       "Japan           485\n",
       "Netherlands     438\n",
       "Italy           387\n",
       "Sweden          380\n",
       "Name: Nationality, dtype: int64"
      ]
     },
     "execution_count": 21,
     "metadata": {},
     "output_type": "execute_result"
    }
   ],
   "source": [
    "fifa['Nationality'].value_counts().head(10)"
   ]
  },
  {
   "cell_type": "code",
   "execution_count": 22,
   "id": "8448d801",
   "metadata": {
    "scrolled": false
   },
   "outputs": [
    {
     "data": {
      "text/plain": [
       "<AxesSubplot:ylabel='Nationality'>"
      ]
     },
     "execution_count": 22,
     "metadata": {},
     "output_type": "execute_result"
    },
    {
     "data": {
      "image/png": "[encoded data removed]",
      "text/plain": [
       "<Figure size 1296x1080 with 1 Axes>"
      ]
     },
     "metadata": {},
     "output_type": "display_data"
    }
   ],
   "source": [
    "plt.figure(figsize=(18,15))\n",
    "fifa['Nationality'].value_counts().head(10).plot.pie()"
   ]
  },
  {
   "cell_type": "code",
   "execution_count": 23,
   "id": "bdafdcdd",
   "metadata": {
    "scrolled": true
   },
   "outputs": [
    {
     "data": {
      "text/plain": [
       "Index(['ID', 'LongName', 'photoUrl', 'playerUrl', 'Nationality', 'Age', '↓OVA',\n",
       "       'POT', 'Club', 'Contract', 'Positions', 'Height', 'Weight',\n",
       "       'Preferred Foot', 'BOV', 'Best Position', 'Joined', 'Loan Date End',\n",
       "       'Value', 'Wage', 'Release Clause', 'Attacking', 'Crossing', 'Finishing',\n",
       "       'Heading Accuracy', 'Short Passing', 'Volleys', 'Skill', 'Dribbling',\n",
       "       'Curve', 'FK Accuracy', 'Long Passing', 'Ball Control', 'Movement',\n",
       "       'Acceleration', 'Sprint Speed', 'Agility', 'Reactions', 'Balance',\n",
       "       'Power', 'Shot Power', 'Jumping', 'Stamina', 'Strength', 'Long Shots',\n",
       "       'Mentality', 'Aggression', 'Interceptions', 'Positioning', 'Vision',\n",
       "       'Penalties', 'Composure', 'Defending', 'Marking', 'Standing Tackle',\n",
       "       'Sliding Tackle', 'Goalkeeping', 'GK Diving', 'GK Handling',\n",
       "       'GK Kicking', 'GK Positioning', 'GK Reflexes', 'Total Stats',\n",
       "       'Base Stats', 'W/F', 'SM', 'A/W', 'D/W', 'IR', 'PAC', 'SHO', 'PAS',\n",
       "       'DRI', 'DEF', 'PHY', 'Hits'],\n",
       "      dtype='object')"
      ]
     },
     "execution_count": 23,
     "metadata": {},
     "output_type": "execute_result"
    }
   ],
   "source": [
    "#checking the columns of the dataset again\n",
    "fifa.columns"
   ]
  },
  {
   "cell_type": "code",
   "execution_count": null,
   "id": "16904aa6",
   "metadata": {},
   "outputs": [],
   "source": []
  },
  {
   "cell_type": "raw",
   "id": "2df339d8",
   "metadata": {},
   "source": [
    "Players above the age of 40.\n",
    "\n",
    "In the game of football, we rarely see players over the age of 40 and still in the game.\n",
    "There are few of them in the dataset and they still have quite good stats."
   ]
  },
  {
   "cell_type": "code",
   "execution_count": 24,
   "id": "78668ccd",
   "metadata": {},
   "outputs": [
    {
     "data": {
      "text/plain": [
       "14"
      ]
     },
     "execution_count": 24,
     "metadata": {},
     "output_type": "execute_result"
    }
   ],
   "source": [
    "#number of players greater than 40\n",
    "(fifa['Age'] > 40).sum()"
   ]
  },
  {
   "cell_type": "code",
   "execution_count": 25,
   "id": "30f9ac56",
   "metadata": {},
   "outputs": [
    {
     "data": {
      "text/html": [
       "<div>\n",
       "<style scoped>\n",
       "    .dataframe tbody tr th:only-of-type {\n",
       "        vertical-align: middle;\n",
       "    }\n",
       "\n",
       "    .dataframe tbody tr th {\n",
       "        vertical-align: top;\n",
       "    }\n",
       "\n",
       "    .dataframe thead th {\n",
       "        text-align: right;\n",
       "    }\n",
       "</style>\n",
       "<table border=\"1\" class=\"dataframe\">\n",
       "  <thead>\n",
       "    <tr style=\"text-align: right;\">\n",
       "      <th></th>\n",
       "      <th>ID</th>\n",
       "      <th>LongName</th>\n",
       "      <th>photoUrl</th>\n",
       "      <th>playerUrl</th>\n",
       "      <th>Nationality</th>\n",
       "      <th>Age</th>\n",
       "      <th>↓OVA</th>\n",
       "      <th>POT</th>\n",
       "      <th>Club</th>\n",
       "      <th>Contract</th>\n",
       "      <th>...</th>\n",
       "      <th>A/W</th>\n",
       "      <th>D/W</th>\n",
       "      <th>IR</th>\n",
       "      <th>PAC</th>\n",
       "      <th>SHO</th>\n",
       "      <th>PAS</th>\n",
       "      <th>DRI</th>\n",
       "      <th>DEF</th>\n",
       "      <th>PHY</th>\n",
       "      <th>Hits</th>\n",
       "    </tr>\n",
       "  </thead>\n",
       "  <tbody>\n",
       "    <tr>\n",
       "      <th>262</th>\n",
       "      <td>1179</td>\n",
       "      <td>Gianluigi Buffon</td>\n",
       "      <td>https://cdn.sofifa.com/players/001/179/21_60.png</td>\n",
       "      <td>http://sofifa.com/player/1179/gianluigi-buffon...</td>\n",
       "      <td>Italy</td>\n",
       "      <td>42</td>\n",
       "      <td>82</td>\n",
       "      <td>82</td>\n",
       "      <td>\\n\\n\\n\\nJuventus</td>\n",
       "      <td>2019 ~ 2021</td>\n",
       "      <td>...</td>\n",
       "      <td>Medium</td>\n",
       "      <td>Medium</td>\n",
       "      <td>4 ★</td>\n",
       "      <td>77</td>\n",
       "      <td>76</td>\n",
       "      <td>74</td>\n",
       "      <td>78</td>\n",
       "      <td>33</td>\n",
       "      <td>91</td>\n",
       "      <td>131</td>\n",
       "    </tr>\n",
       "    <tr>\n",
       "      <th>1083</th>\n",
       "      <td>153260</td>\n",
       "      <td>Vitorino Hilton da Silva</td>\n",
       "      <td>https://cdn.sofifa.com/players/153/260/21_60.png</td>\n",
       "      <td>http://sofifa.com/player/153260/vitorino-hilto...</td>\n",
       "      <td>Brazil</td>\n",
       "      <td>42</td>\n",
       "      <td>77</td>\n",
       "      <td>77</td>\n",
       "      <td>\\n\\n\\n\\nMontpellier HSC</td>\n",
       "      <td>2011 ~ 2021</td>\n",
       "      <td>...</td>\n",
       "      <td>Medium</td>\n",
       "      <td>Medium</td>\n",
       "      <td>2 ★</td>\n",
       "      <td>33</td>\n",
       "      <td>51</td>\n",
       "      <td>67</td>\n",
       "      <td>65</td>\n",
       "      <td>81</td>\n",
       "      <td>70</td>\n",
       "      <td>46</td>\n",
       "    </tr>\n",
       "    <tr>\n",
       "      <th>3964</th>\n",
       "      <td>156483</td>\n",
       "      <td>Cristian Lucchetti</td>\n",
       "      <td>https://cdn.sofifa.com/players/156/483/21_60.png</td>\n",
       "      <td>http://sofifa.com/player/156483/cristian-lucch...</td>\n",
       "      <td>Argentina</td>\n",
       "      <td>42</td>\n",
       "      <td>71</td>\n",
       "      <td>71</td>\n",
       "      <td>\\n\\n\\n\\nAtlético Tucumán</td>\n",
       "      <td>2012 ~ 2021</td>\n",
       "      <td>...</td>\n",
       "      <td>Medium</td>\n",
       "      <td>Medium</td>\n",
       "      <td>1 ★</td>\n",
       "      <td>72</td>\n",
       "      <td>69</td>\n",
       "      <td>76</td>\n",
       "      <td>70</td>\n",
       "      <td>43</td>\n",
       "      <td>69</td>\n",
       "      <td>9</td>\n",
       "    </tr>\n",
       "    <tr>\n",
       "      <th>5792</th>\n",
       "      <td>136553</td>\n",
       "      <td>Dong Gook Lee</td>\n",
       "      <td>https://cdn.sofifa.com/players/136/553/21_60.png</td>\n",
       "      <td>http://sofifa.com/player/136553/dong-gook-lee/...</td>\n",
       "      <td>Korea Republic</td>\n",
       "      <td>41</td>\n",
       "      <td>69</td>\n",
       "      <td>69</td>\n",
       "      <td>\\n\\n\\n\\nJeonbuk Hyundai Motors</td>\n",
       "      <td>2009 ~ 2020</td>\n",
       "      <td>...</td>\n",
       "      <td>High</td>\n",
       "      <td>Low</td>\n",
       "      <td>3 ★</td>\n",
       "      <td>32</td>\n",
       "      <td>77</td>\n",
       "      <td>62</td>\n",
       "      <td>58</td>\n",
       "      <td>29</td>\n",
       "      <td>62</td>\n",
       "      <td>15</td>\n",
       "    </tr>\n",
       "    <tr>\n",
       "      <th>7736</th>\n",
       "      <td>105308</td>\n",
       "      <td>Jean-François Gillet</td>\n",
       "      <td>https://cdn.sofifa.com/players/105/308/21_60.png</td>\n",
       "      <td>http://sofifa.com/player/105308/jean-francois-...</td>\n",
       "      <td>Belgium</td>\n",
       "      <td>41</td>\n",
       "      <td>67</td>\n",
       "      <td>67</td>\n",
       "      <td>\\n\\n\\n\\nStandard de Liège</td>\n",
       "      <td>2016 ~ 2021</td>\n",
       "      <td>...</td>\n",
       "      <td>Medium</td>\n",
       "      <td>Medium</td>\n",
       "      <td>2 ★</td>\n",
       "      <td>64</td>\n",
       "      <td>70</td>\n",
       "      <td>69</td>\n",
       "      <td>64</td>\n",
       "      <td>39</td>\n",
       "      <td>74</td>\n",
       "      <td>8</td>\n",
       "    </tr>\n",
       "    <tr>\n",
       "      <th>7917</th>\n",
       "      <td>162952</td>\n",
       "      <td>Mauricio Caranta</td>\n",
       "      <td>https://cdn.sofifa.com/players/162/952/21_60.png</td>\n",
       "      <td>http://sofifa.com/player/162952/mauricio-caran...</td>\n",
       "      <td>Argentina</td>\n",
       "      <td>41</td>\n",
       "      <td>67</td>\n",
       "      <td>67</td>\n",
       "      <td>\\n\\n\\n\\nClub Atlético Talleres</td>\n",
       "      <td>2016 ~ 2020</td>\n",
       "      <td>...</td>\n",
       "      <td>Medium</td>\n",
       "      <td>Medium</td>\n",
       "      <td>1 ★</td>\n",
       "      <td>65</td>\n",
       "      <td>67</td>\n",
       "      <td>67</td>\n",
       "      <td>63</td>\n",
       "      <td>48</td>\n",
       "      <td>65</td>\n",
       "      <td>6</td>\n",
       "    </tr>\n",
       "    <tr>\n",
       "      <th>10101</th>\n",
       "      <td>29552</td>\n",
       "      <td>Shunsuke Nakamura</td>\n",
       "      <td>https://cdn.sofifa.com/players/029/552/21_60.png</td>\n",
       "      <td>http://sofifa.com/player/29552/shunsuke-nakamu...</td>\n",
       "      <td>Japan</td>\n",
       "      <td>42</td>\n",
       "      <td>65</td>\n",
       "      <td>65</td>\n",
       "      <td>\\n\\n\\n\\nYokohama FC</td>\n",
       "      <td>2019 ~ 2021</td>\n",
       "      <td>...</td>\n",
       "      <td>High</td>\n",
       "      <td>Low</td>\n",
       "      <td>3 ★</td>\n",
       "      <td>30</td>\n",
       "      <td>69</td>\n",
       "      <td>74</td>\n",
       "      <td>67</td>\n",
       "      <td>36</td>\n",
       "      <td>51</td>\n",
       "      <td>47</td>\n",
       "    </tr>\n",
       "    <tr>\n",
       "      <th>10834</th>\n",
       "      <td>208927</td>\n",
       "      <td>Hussain Sulaimani</td>\n",
       "      <td>https://cdn.sofifa.com/players/208/927/21_60.png</td>\n",
       "      <td>http://sofifa.com/player/208927/hussain-sulaim...</td>\n",
       "      <td>Saudi Arabia</td>\n",
       "      <td>43</td>\n",
       "      <td>64</td>\n",
       "      <td>64</td>\n",
       "      <td>\\n\\n\\n\\nAl Ahli</td>\n",
       "      <td>2019 ~ 2024</td>\n",
       "      <td>...</td>\n",
       "      <td>High</td>\n",
       "      <td>Medium</td>\n",
       "      <td>1 ★</td>\n",
       "      <td>43</td>\n",
       "      <td>53</td>\n",
       "      <td>68</td>\n",
       "      <td>64</td>\n",
       "      <td>64</td>\n",
       "      <td>72</td>\n",
       "      <td>25</td>\n",
       "    </tr>\n",
       "    <tr>\n",
       "      <th>11426</th>\n",
       "      <td>169108</td>\n",
       "      <td>Leao Butrón</td>\n",
       "      <td>https://cdn.sofifa.com/players/169/108/21_60.png</td>\n",
       "      <td>http://sofifa.com/player/169108/leao-butron/21...</td>\n",
       "      <td>Peru</td>\n",
       "      <td>43</td>\n",
       "      <td>64</td>\n",
       "      <td>64</td>\n",
       "      <td>\\n\\n\\n\\nAlianza Lima</td>\n",
       "      <td>2015 ~ 2020</td>\n",
       "      <td>...</td>\n",
       "      <td>Medium</td>\n",
       "      <td>Medium</td>\n",
       "      <td>1 ★</td>\n",
       "      <td>63</td>\n",
       "      <td>60</td>\n",
       "      <td>61</td>\n",
       "      <td>63</td>\n",
       "      <td>23</td>\n",
       "      <td>67</td>\n",
       "      <td>11</td>\n",
       "    </tr>\n",
       "    <tr>\n",
       "      <th>14779</th>\n",
       "      <td>254196</td>\n",
       "      <td>Luis Fernando Fernández</td>\n",
       "      <td>https://cdn.sofifa.com/players/254/196/21_60.png</td>\n",
       "      <td>http://sofifa.com/player/254196/luis-fernando-...</td>\n",
       "      <td>Colombia</td>\n",
       "      <td>42</td>\n",
       "      <td>61</td>\n",
       "      <td>61</td>\n",
       "      <td>\\n\\n\\n\\nSD Aucas</td>\n",
       "      <td>2018 ~ 2024</td>\n",
       "      <td>...</td>\n",
       "      <td>Medium</td>\n",
       "      <td>Medium</td>\n",
       "      <td>1 ★</td>\n",
       "      <td>60</td>\n",
       "      <td>62</td>\n",
       "      <td>61</td>\n",
       "      <td>63</td>\n",
       "      <td>32</td>\n",
       "      <td>55</td>\n",
       "      <td>2</td>\n",
       "    </tr>\n",
       "    <tr>\n",
       "      <th>15083</th>\n",
       "      <td>53352</td>\n",
       "      <td>Dannie Bulman</td>\n",
       "      <td>https://cdn.sofifa.com/players/053/352/21_60.png</td>\n",
       "      <td>http://sofifa.com/player/53352/dannie-bulman/2...</td>\n",
       "      <td>England</td>\n",
       "      <td>41</td>\n",
       "      <td>60</td>\n",
       "      <td>60</td>\n",
       "      <td>\\n\\n\\n\\nCrawley Town</td>\n",
       "      <td>2017 ~ 2021</td>\n",
       "      <td>...</td>\n",
       "      <td>Medium</td>\n",
       "      <td>High</td>\n",
       "      <td>1 ★</td>\n",
       "      <td>34</td>\n",
       "      <td>44</td>\n",
       "      <td>56</td>\n",
       "      <td>57</td>\n",
       "      <td>59</td>\n",
       "      <td>74</td>\n",
       "      <td>9</td>\n",
       "    </tr>\n",
       "    <tr>\n",
       "      <th>15996</th>\n",
       "      <td>104900</td>\n",
       "      <td>Michael Gurski</td>\n",
       "      <td>https://cdn.sofifa.com/players/104/900/21_60.png</td>\n",
       "      <td>http://sofifa.com/player/104900/michael-gurski...</td>\n",
       "      <td>Germany</td>\n",
       "      <td>41</td>\n",
       "      <td>59</td>\n",
       "      <td>59</td>\n",
       "      <td>\\n\\n\\n\\nSpVgg Unterhaching</td>\n",
       "      <td>2018 ~ 2021</td>\n",
       "      <td>...</td>\n",
       "      <td>Medium</td>\n",
       "      <td>Medium</td>\n",
       "      <td>1 ★</td>\n",
       "      <td>53</td>\n",
       "      <td>63</td>\n",
       "      <td>38</td>\n",
       "      <td>57</td>\n",
       "      <td>26</td>\n",
       "      <td>62</td>\n",
       "      <td>3</td>\n",
       "    </tr>\n",
       "    <tr>\n",
       "      <th>16109</th>\n",
       "      <td>254704</td>\n",
       "      <td>Kazuyoshi Miura</td>\n",
       "      <td>https://cdn.sofifa.com/players/254/704/21_60.png</td>\n",
       "      <td>http://sofifa.com/player/254704/kazuyoshi-miur...</td>\n",
       "      <td>Japan</td>\n",
       "      <td>53</td>\n",
       "      <td>59</td>\n",
       "      <td>59</td>\n",
       "      <td>\\n\\n\\n\\nYokohama FC</td>\n",
       "      <td>2005 ~ 2021</td>\n",
       "      <td>...</td>\n",
       "      <td>Low</td>\n",
       "      <td>Low</td>\n",
       "      <td>1 ★</td>\n",
       "      <td>25</td>\n",
       "      <td>63</td>\n",
       "      <td>55</td>\n",
       "      <td>60</td>\n",
       "      <td>19</td>\n",
       "      <td>47</td>\n",
       "      <td>125</td>\n",
       "    </tr>\n",
       "    <tr>\n",
       "      <th>16621</th>\n",
       "      <td>2702</td>\n",
       "      <td>Kevin Ellison</td>\n",
       "      <td>https://cdn.sofifa.com/players/002/702/21_60.png</td>\n",
       "      <td>http://sofifa.com/player/2702/kevin-ellison/21...</td>\n",
       "      <td>England</td>\n",
       "      <td>41</td>\n",
       "      <td>58</td>\n",
       "      <td>58</td>\n",
       "      <td>\\n\\n\\n\\nNewport County</td>\n",
       "      <td>2020 ~ 2021</td>\n",
       "      <td>...</td>\n",
       "      <td>High</td>\n",
       "      <td>Low</td>\n",
       "      <td>1 ★</td>\n",
       "      <td>43</td>\n",
       "      <td>63</td>\n",
       "      <td>56</td>\n",
       "      <td>63</td>\n",
       "      <td>43</td>\n",
       "      <td>72</td>\n",
       "      <td>0</td>\n",
       "    </tr>\n",
       "  </tbody>\n",
       "</table>\n",
       "<p>14 rows × 76 columns</p>\n",
       "</div>"
      ],
      "text/plain": [
       "           ID                  LongName  \\\n",
       "262      1179          Gianluigi Buffon   \n",
       "1083   153260  Vitorino Hilton da Silva   \n",
       "3964   156483        Cristian Lucchetti   \n",
       "5792   136553             Dong Gook Lee   \n",
       "7736   105308      Jean-François Gillet   \n",
       "7917   162952          Mauricio Caranta   \n",
       "10101   29552         Shunsuke Nakamura   \n",
       "10834  208927         Hussain Sulaimani   \n",
       "11426  169108               Leao Butrón   \n",
       "14779  254196   Luis Fernando Fernández   \n",
       "15083   53352             Dannie Bulman   \n",
       "15996  104900            Michael Gurski   \n",
       "16109  254704           Kazuyoshi Miura   \n",
       "16621    2702             Kevin Ellison   \n",
       "\n",
       "                                               photoUrl  \\\n",
       "262    https://cdn.sofifa.com/players/001/179/21_60.png   \n",
       "1083   https://cdn.sofifa.com/players/153/260/21_60.png   \n",
       "3964   https://cdn.sofifa.com/players/156/483/21_60.png   \n",
       "5792   https://cdn.sofifa.com/players/136/553/21_60.png   \n",
       "7736   https://cdn.sofifa.com/players/105/308/21_60.png   \n",
       "7917   https://cdn.sofifa.com/players/162/952/21_60.png   \n",
       "10101  https://cdn.sofifa.com/players/029/552/21_60.png   \n",
       "10834  https://cdn.sofifa.com/players/208/927/21_60.png   \n",
       "11426  https://cdn.sofifa.com/players/169/108/21_60.png   \n",
       "14779  https://cdn.sofifa.com/players/254/196/21_60.png   \n",
       "15083  https://cdn.sofifa.com/players/053/352/21_60.png   \n",
       "15996  https://cdn.sofifa.com/players/104/900/21_60.png   \n",
       "16109  https://cdn.sofifa.com/players/254/704/21_60.png   \n",
       "16621  https://cdn.sofifa.com/players/002/702/21_60.png   \n",
       "\n",
       "                                               playerUrl     Nationality  Age  \\\n",
       "262    http://sofifa.com/player/1179/gianluigi-buffon...           Italy   42   \n",
       "1083   http://sofifa.com/player/153260/vitorino-hilto...          Brazil   42   \n",
       "3964   http://sofifa.com/player/156483/cristian-lucch...       Argentina   42   \n",
       "5792   http://sofifa.com/player/136553/dong-gook-lee/...  Korea Republic   41   \n",
       "7736   http://sofifa.com/player/105308/jean-francois-...         Belgium   41   \n",
       "7917   http://sofifa.com/player/162952/mauricio-caran...       Argentina   41   \n",
       "10101  http://sofifa.com/player/29552/shunsuke-nakamu...           Japan   42   \n",
       "10834  http://sofifa.com/player/208927/hussain-sulaim...    Saudi Arabia   43   \n",
       "11426  http://sofifa.com/player/169108/leao-butron/21...            Peru   43   \n",
       "14779  http://sofifa.com/player/254196/luis-fernando-...        Colombia   42   \n",
       "15083  http://sofifa.com/player/53352/dannie-bulman/2...         England   41   \n",
       "15996  http://sofifa.com/player/104900/michael-gurski...         Germany   41   \n",
       "16109  http://sofifa.com/player/254704/kazuyoshi-miur...           Japan   53   \n",
       "16621  http://sofifa.com/player/2702/kevin-ellison/21...         England   41   \n",
       "\n",
       "       ↓OVA  POT                            Club     Contract  ...     A/W  \\\n",
       "262      82   82                \\n\\n\\n\\nJuventus  2019 ~ 2021  ...  Medium   \n",
       "1083     77   77         \\n\\n\\n\\nMontpellier HSC  2011 ~ 2021  ...  Medium   \n",
       "3964     71   71        \\n\\n\\n\\nAtlético Tucumán  2012 ~ 2021  ...  Medium   \n",
       "5792     69   69  \\n\\n\\n\\nJeonbuk Hyundai Motors  2009 ~ 2020  ...    High   \n",
       "7736     67   67       \\n\\n\\n\\nStandard de Liège  2016 ~ 2021  ...  Medium   \n",
       "7917     67   67  \\n\\n\\n\\nClub Atlético Talleres  2016 ~ 2020  ...  Medium   \n",
       "10101    65   65             \\n\\n\\n\\nYokohama FC  2019 ~ 2021  ...    High   \n",
       "10834    64   64                 \\n\\n\\n\\nAl Ahli  2019 ~ 2024  ...    High   \n",
       "11426    64   64            \\n\\n\\n\\nAlianza Lima  2015 ~ 2020  ...  Medium   \n",
       "14779    61   61                \\n\\n\\n\\nSD Aucas  2018 ~ 2024  ...  Medium   \n",
       "15083    60   60            \\n\\n\\n\\nCrawley Town  2017 ~ 2021  ...  Medium   \n",
       "15996    59   59      \\n\\n\\n\\nSpVgg Unterhaching  2018 ~ 2021  ...  Medium   \n",
       "16109    59   59             \\n\\n\\n\\nYokohama FC  2005 ~ 2021  ...     Low   \n",
       "16621    58   58          \\n\\n\\n\\nNewport County  2020 ~ 2021  ...    High   \n",
       "\n",
       "          D/W   IR PAC  SHO PAS DRI DEF PHY Hits  \n",
       "262    Medium  4 ★  77   76  74  78  33  91  131  \n",
       "1083   Medium  2 ★  33   51  67  65  81  70   46  \n",
       "3964   Medium  1 ★  72   69  76  70  43  69    9  \n",
       "5792      Low  3 ★  32   77  62  58  29  62   15  \n",
       "7736   Medium  2 ★  64   70  69  64  39  74    8  \n",
       "7917   Medium  1 ★  65   67  67  63  48  65    6  \n",
       "10101     Low  3 ★  30   69  74  67  36  51   47  \n",
       "10834  Medium  1 ★  43   53  68  64  64  72   25  \n",
       "11426  Medium  1 ★  63   60  61  63  23  67   11  \n",
       "14779  Medium  1 ★  60   62  61  63  32  55    2  \n",
       "15083    High  1 ★  34   44  56  57  59  74    9  \n",
       "15996  Medium  1 ★  53   63  38  57  26  62    3  \n",
       "16109     Low  1 ★  25   63  55  60  19  47  125  \n",
       "16621     Low  1 ★  43   63  56  63  43  72    0  \n",
       "\n",
       "[14 rows x 76 columns]"
      ]
     },
     "execution_count": 25,
     "metadata": {},
     "output_type": "execute_result"
    }
   ],
   "source": [
    "#players greater than 40\n",
    "fifa[fifa['Age']> 40]"
   ]
  },
  {
   "cell_type": "code",
   "execution_count": 26,
   "id": "bd36a123",
   "metadata": {},
   "outputs": [
    {
     "data": {
      "text/html": [
       "<div>\n",
       "<style scoped>\n",
       "    .dataframe tbody tr th:only-of-type {\n",
       "        vertical-align: middle;\n",
       "    }\n",
       "\n",
       "    .dataframe tbody tr th {\n",
       "        vertical-align: top;\n",
       "    }\n",
       "\n",
       "    .dataframe thead th {\n",
       "        text-align: right;\n",
       "    }\n",
       "</style>\n",
       "<table border=\"1\" class=\"dataframe\">\n",
       "  <thead>\n",
       "    <tr style=\"text-align: right;\">\n",
       "      <th></th>\n",
       "      <th>ID</th>\n",
       "      <th>LongName</th>\n",
       "      <th>photoUrl</th>\n",
       "      <th>playerUrl</th>\n",
       "      <th>Nationality</th>\n",
       "      <th>Age</th>\n",
       "      <th>↓OVA</th>\n",
       "      <th>POT</th>\n",
       "      <th>Club</th>\n",
       "      <th>Contract</th>\n",
       "      <th>...</th>\n",
       "      <th>A/W</th>\n",
       "      <th>D/W</th>\n",
       "      <th>IR</th>\n",
       "      <th>PAC</th>\n",
       "      <th>SHO</th>\n",
       "      <th>PAS</th>\n",
       "      <th>DRI</th>\n",
       "      <th>DEF</th>\n",
       "      <th>PHY</th>\n",
       "      <th>Hits</th>\n",
       "    </tr>\n",
       "  </thead>\n",
       "  <tbody>\n",
       "    <tr>\n",
       "      <th>16109</th>\n",
       "      <td>254704</td>\n",
       "      <td>Kazuyoshi Miura</td>\n",
       "      <td>https://cdn.sofifa.com/players/254/704/21_60.png</td>\n",
       "      <td>http://sofifa.com/player/254704/kazuyoshi-miur...</td>\n",
       "      <td>Japan</td>\n",
       "      <td>53</td>\n",
       "      <td>59</td>\n",
       "      <td>59</td>\n",
       "      <td>\\n\\n\\n\\nYokohama FC</td>\n",
       "      <td>2005 ~ 2021</td>\n",
       "      <td>...</td>\n",
       "      <td>Low</td>\n",
       "      <td>Low</td>\n",
       "      <td>1 ★</td>\n",
       "      <td>25</td>\n",
       "      <td>63</td>\n",
       "      <td>55</td>\n",
       "      <td>60</td>\n",
       "      <td>19</td>\n",
       "      <td>47</td>\n",
       "      <td>125</td>\n",
       "    </tr>\n",
       "  </tbody>\n",
       "</table>\n",
       "<p>1 rows × 76 columns</p>\n",
       "</div>"
      ],
      "text/plain": [
       "           ID         LongName  \\\n",
       "16109  254704  Kazuyoshi Miura   \n",
       "\n",
       "                                               photoUrl  \\\n",
       "16109  https://cdn.sofifa.com/players/254/704/21_60.png   \n",
       "\n",
       "                                               playerUrl Nationality  Age  \\\n",
       "16109  http://sofifa.com/player/254704/kazuyoshi-miur...       Japan   53   \n",
       "\n",
       "       ↓OVA  POT                 Club     Contract  ...  A/W  D/W   IR PAC  \\\n",
       "16109    59   59  \\n\\n\\n\\nYokohama FC  2005 ~ 2021  ...  Low  Low  1 ★  25   \n",
       "\n",
       "       SHO PAS DRI DEF PHY Hits  \n",
       "16109   63  55  60  19  47  125  \n",
       "\n",
       "[1 rows x 76 columns]"
      ]
     },
     "execution_count": 26,
     "metadata": {},
     "output_type": "execute_result"
    }
   ],
   "source": [
    "#There's one player that is over the age of 50\n",
    "\n",
    "fifa[fifa['Age']>50]"
   ]
  },
  {
   "cell_type": "code",
   "execution_count": null,
   "id": "2987aa56",
   "metadata": {},
   "outputs": [],
   "source": []
  },
  {
   "cell_type": "code",
   "execution_count": 27,
   "id": "b4b10f7a",
   "metadata": {},
   "outputs": [
    {
     "data": {
      "text/plain": [
       "18979"
      ]
     },
     "execution_count": 27,
     "metadata": {},
     "output_type": "execute_result"
    }
   ],
   "source": [
    "#just checking if the IDs are truly unique, haha.\n",
    "fifa['ID'].nunique()"
   ]
  },
  {
   "cell_type": "code",
   "execution_count": null,
   "id": "e1c5d61f",
   "metadata": {},
   "outputs": [],
   "source": []
  },
  {
   "cell_type": "code",
   "execution_count": 28,
   "id": "109ddca9",
   "metadata": {},
   "outputs": [],
   "source": [
    "#renaming the ↓OVA column so it can be easier when we wanna call it\n",
    "\n",
    "fifa.rename(columns={'↓OVA':'OVA'}, inplace= True )"
   ]
  },
  {
   "cell_type": "code",
   "execution_count": null,
   "id": "8c8dbd0b",
   "metadata": {},
   "outputs": [],
   "source": []
  },
  {
   "cell_type": "code",
   "execution_count": 29,
   "id": "dc351375",
   "metadata": {},
   "outputs": [
    {
     "data": {
      "text/plain": [
       "0"
      ]
     },
     "execution_count": 29,
     "metadata": {},
     "output_type": "execute_result"
    }
   ],
   "source": [
    "#checking if there's any data recorded wrongly, i.e have the value greater than 100 or lesser than 0\n",
    "(fifa['OVA']>100).sum()"
   ]
  },
  {
   "cell_type": "code",
   "execution_count": 30,
   "id": "f45d222b",
   "metadata": {},
   "outputs": [
    {
     "data": {
      "text/plain": [
       "47"
      ]
     },
     "execution_count": 30,
     "metadata": {},
     "output_type": "execute_result"
    }
   ],
   "source": [
    "fifa['OVA'].nunique()"
   ]
  },
  {
   "cell_type": "code",
   "execution_count": 31,
   "id": "7a4152dc",
   "metadata": {},
   "outputs": [
    {
     "data": {
      "text/plain": [
       "65    1179\n",
       "66    1157\n",
       "64    1152\n",
       "67    1112\n",
       "63    1086\n",
       "68     979\n",
       "62     953\n",
       "69     941\n",
       "70     884\n",
       "61     821\n",
       "72     747\n",
       "60     745\n",
       "71     715\n",
       "59     615\n",
       "73     572\n",
       "58     543\n",
       "75     537\n",
       "57     470\n",
       "74     469\n",
       "56     380\n",
       "55     320\n",
       "76     318\n",
       "77     279\n",
       "54     247\n",
       "53     235\n",
       "78     212\n",
       "52     209\n",
       "79     181\n",
       "51     177\n",
       "80     137\n",
       "50     122\n",
       "81      95\n",
       "83      72\n",
       "49      61\n",
       "82      60\n",
       "84      43\n",
       "48      41\n",
       "85      37\n",
       "87      20\n",
       "47      14\n",
       "86      14\n",
       "88      10\n",
       "89       6\n",
       "90       6\n",
       "91       4\n",
       "92       1\n",
       "93       1\n",
       "Name: OVA, dtype: int64"
      ]
     },
     "execution_count": 31,
     "metadata": {},
     "output_type": "execute_result"
    }
   ],
   "source": [
    "#most players have overall ratings between 60-70\n",
    "fifa['OVA'].value_counts()"
   ]
  },
  {
   "cell_type": "code",
   "execution_count": null,
   "id": "2ff49f46",
   "metadata": {},
   "outputs": [],
   "source": []
  },
  {
   "cell_type": "code",
   "execution_count": 32,
   "id": "77719a6c",
   "metadata": {},
   "outputs": [
    {
     "data": {
      "text/plain": [
       "0"
      ]
     },
     "execution_count": 32,
     "metadata": {},
     "output_type": "execute_result"
    }
   ],
   "source": [
    "(fifa['POT']>100).sum()"
   ]
  },
  {
   "cell_type": "code",
   "execution_count": null,
   "id": "9306d654",
   "metadata": {},
   "outputs": [],
   "source": []
  },
  {
   "cell_type": "code",
   "execution_count": 33,
   "id": "2ad2cc6b",
   "metadata": {},
   "outputs": [
    {
     "data": {
      "text/plain": [
       "0               \\n\\n\\n\\nFC Barcelona\n",
       "1                   \\n\\n\\n\\nJuventus\n",
       "2            \\n\\n\\n\\nAtlético Madrid\n",
       "3            \\n\\n\\n\\nManchester City\n",
       "4        \\n\\n\\n\\nParis Saint-Germain\n",
       "                    ...             \n",
       "18974             \\n\\n\\n\\nWuhan Zall\n",
       "18975        \\n\\n\\n\\nOldham Athletic\n",
       "18976             \\n\\n\\n\\nDerry City\n",
       "18977       \\n\\n\\n\\nDalian YiFang FC\n",
       "18978       \\n\\n\\n\\nDalian YiFang FC\n",
       "Name: Club, Length: 18979, dtype: object"
      ]
     },
     "execution_count": 33,
     "metadata": {},
     "output_type": "execute_result"
    }
   ],
   "source": [
    "fifa['Club']"
   ]
  },
  {
   "cell_type": "code",
   "execution_count": 34,
   "id": "ae375fa9",
   "metadata": {},
   "outputs": [],
   "source": [
    "fifa['Club']= fifa['Club'].str.strip('\\n')"
   ]
  },
  {
   "cell_type": "code",
   "execution_count": 35,
   "id": "76ae5d76",
   "metadata": {
    "scrolled": true
   },
   "outputs": [
    {
     "data": {
      "text/plain": [
       "0               FC Barcelona\n",
       "1                   Juventus\n",
       "2            Atlético Madrid\n",
       "3            Manchester City\n",
       "4        Paris Saint-Germain\n",
       "                ...         \n",
       "18974             Wuhan Zall\n",
       "18975        Oldham Athletic\n",
       "18976             Derry City\n",
       "18977       Dalian YiFang FC\n",
       "18978       Dalian YiFang FC\n",
       "Name: Club, Length: 18979, dtype: object"
      ]
     },
     "execution_count": 35,
     "metadata": {},
     "output_type": "execute_result"
    }
   ],
   "source": [
    "fifa['Club']"
   ]
  },
  {
   "cell_type": "code",
   "execution_count": 36,
   "id": "b1278cc7",
   "metadata": {},
   "outputs": [
    {
     "data": {
      "text/plain": [
       "682"
      ]
     },
     "execution_count": 36,
     "metadata": {},
     "output_type": "execute_result"
    }
   ],
   "source": [
    "#total number of clubs\n",
    "fifa['Club'].nunique()"
   ]
  },
  {
   "cell_type": "code",
   "execution_count": null,
   "id": "16a2cb6d",
   "metadata": {},
   "outputs": [],
   "source": []
  },
  {
   "cell_type": "code",
   "execution_count": 37,
   "id": "4b82a5d2",
   "metadata": {},
   "outputs": [
    {
     "data": {
      "text/plain": [
       "Index(['ID', 'LongName', 'photoUrl', 'playerUrl', 'Nationality', 'Age', 'OVA',\n",
       "       'POT', 'Club', 'Contract', 'Positions', 'Height', 'Weight',\n",
       "       'Preferred Foot', 'BOV', 'Best Position', 'Joined', 'Loan Date End',\n",
       "       'Value', 'Wage', 'Release Clause', 'Attacking', 'Crossing', 'Finishing',\n",
       "       'Heading Accuracy', 'Short Passing', 'Volleys', 'Skill', 'Dribbling',\n",
       "       'Curve', 'FK Accuracy', 'Long Passing', 'Ball Control', 'Movement',\n",
       "       'Acceleration', 'Sprint Speed', 'Agility', 'Reactions', 'Balance',\n",
       "       'Power', 'Shot Power', 'Jumping', 'Stamina', 'Strength', 'Long Shots',\n",
       "       'Mentality', 'Aggression', 'Interceptions', 'Positioning', 'Vision',\n",
       "       'Penalties', 'Composure', 'Defending', 'Marking', 'Standing Tackle',\n",
       "       'Sliding Tackle', 'Goalkeeping', 'GK Diving', 'GK Handling',\n",
       "       'GK Kicking', 'GK Positioning', 'GK Reflexes', 'Total Stats',\n",
       "       'Base Stats', 'W/F', 'SM', 'A/W', 'D/W', 'IR', 'PAC', 'SHO', 'PAS',\n",
       "       'DRI', 'DEF', 'PHY', 'Hits'],\n",
       "      dtype='object')"
      ]
     },
     "execution_count": 37,
     "metadata": {},
     "output_type": "execute_result"
    }
   ],
   "source": [
    "#quick reminder of the columns\n",
    "fifa.columns"
   ]
  },
  {
   "cell_type": "code",
   "execution_count": 38,
   "id": "1b764417",
   "metadata": {},
   "outputs": [
    {
     "data": {
      "text/plain": [
       "0        2004 ~ 2021\n",
       "1        2018 ~ 2022\n",
       "2        2014 ~ 2023\n",
       "3        2015 ~ 2023\n",
       "4        2017 ~ 2022\n",
       "            ...     \n",
       "18974    2018 ~ 2022\n",
       "18975    2020 ~ 2021\n",
       "18976    2019 ~ 2020\n",
       "18977    2020 ~ 2022\n",
       "18978    2019 ~ 2023\n",
       "Name: Contract, Length: 18979, dtype: object"
      ]
     },
     "execution_count": 38,
     "metadata": {},
     "output_type": "execute_result"
    }
   ],
   "source": [
    "fifa.Contract"
   ]
  },
  {
   "cell_type": "code",
   "execution_count": null,
   "id": "71781d22",
   "metadata": {},
   "outputs": [],
   "source": []
  },
  {
   "cell_type": "code",
   "execution_count": 39,
   "id": "ca436067",
   "metadata": {},
   "outputs": [
    {
     "data": {
      "text/plain": [
       "0        170cm\n",
       "1        187cm\n",
       "2        188cm\n",
       "3        181cm\n",
       "4        175cm\n",
       "         ...  \n",
       "18974    178cm\n",
       "18975    175cm\n",
       "18976    179cm\n",
       "18977    175cm\n",
       "18978    188cm\n",
       "Name: Height, Length: 18979, dtype: object"
      ]
     },
     "execution_count": 39,
     "metadata": {},
     "output_type": "execute_result"
    }
   ],
   "source": [
    "fifa['Height']"
   ]
  },
  {
   "cell_type": "code",
   "execution_count": 40,
   "id": "a604eb44",
   "metadata": {},
   "outputs": [
    {
     "data": {
      "text/plain": [
       "180cm    1474\n",
       "178cm    1250\n",
       "185cm    1182\n",
       "183cm    1148\n",
       "175cm    1091\n",
       "         ... \n",
       "6'5\"        1\n",
       "157cm       1\n",
       "5'4\"        1\n",
       "5'6\"        1\n",
       "155cm       1\n",
       "Name: Height, Length: 62, dtype: int64"
      ]
     },
     "execution_count": 40,
     "metadata": {},
     "output_type": "execute_result"
    }
   ],
   "source": [
    "fifa['Height'].value_counts()"
   ]
  },
  {
   "cell_type": "markdown",
   "id": "3f0bbd97",
   "metadata": {},
   "source": [
    "Some heights are in centimeter, while some are in inches and feet. We have to convert them to the same units."
   ]
  },
  {
   "cell_type": "code",
   "execution_count": 41,
   "id": "a54b9f08",
   "metadata": {},
   "outputs": [
    {
     "data": {
      "text/plain": [
       "0        170cm\n",
       "1        187cm\n",
       "2        188cm\n",
       "3        181cm\n",
       "4        175cm\n",
       "         ...  \n",
       "18974    178cm\n",
       "18975    175cm\n",
       "18976    179cm\n",
       "18977    175cm\n",
       "18978    188cm\n",
       "Name: Height, Length: 18979, dtype: object"
      ]
     },
     "execution_count": 41,
     "metadata": {},
     "output_type": "execute_result"
    }
   ],
   "source": [
    "fifa['Height'].astype('str')"
   ]
  },
  {
   "cell_type": "code",
   "execution_count": 42,
   "id": "856075a1",
   "metadata": {},
   "outputs": [
    {
     "data": {
      "text/plain": [
       "18939"
      ]
     },
     "execution_count": 42,
     "metadata": {},
     "output_type": "execute_result"
    }
   ],
   "source": [
    "#number of heights that are in cm\n",
    "(fifa['Height'].str.endswith('cm')).sum()"
   ]
  },
  {
   "cell_type": "code",
   "execution_count": 43,
   "id": "96d2cb9c",
   "metadata": {},
   "outputs": [],
   "source": [
    "##function to change all heights to centimeters and remove the cm unit from the numbers.\n",
    "\n",
    "def to_cm(x):\n",
    "    if 'cm' in x['Height']:\n",
    "        return int(x['Height'].strip('cm'))\n",
    "    else:\n",
    "        feet, inches = x['Height'].split(\"'\")\n",
    "        return int(inches.strip('\"'))*2.54 + int(feet)*30.48"
   ]
  },
  {
   "cell_type": "code",
   "execution_count": 44,
   "id": "0c1b5ef8",
   "metadata": {},
   "outputs": [],
   "source": [
    "fifa['Height']=fifa.apply(to_cm,axis= 1)"
   ]
  },
  {
   "cell_type": "code",
   "execution_count": 45,
   "id": "6cd410db",
   "metadata": {},
   "outputs": [
    {
     "data": {
      "text/html": [
       "<div>\n",
       "<style scoped>\n",
       "    .dataframe tbody tr th:only-of-type {\n",
       "        vertical-align: middle;\n",
       "    }\n",
       "\n",
       "    .dataframe tbody tr th {\n",
       "        vertical-align: top;\n",
       "    }\n",
       "\n",
       "    .dataframe thead th {\n",
       "        text-align: right;\n",
       "    }\n",
       "</style>\n",
       "<table border=\"1\" class=\"dataframe\">\n",
       "  <thead>\n",
       "    <tr style=\"text-align: right;\">\n",
       "      <th></th>\n",
       "      <th>ID</th>\n",
       "      <th>LongName</th>\n",
       "      <th>photoUrl</th>\n",
       "      <th>playerUrl</th>\n",
       "      <th>Nationality</th>\n",
       "      <th>Age</th>\n",
       "      <th>OVA</th>\n",
       "      <th>POT</th>\n",
       "      <th>Club</th>\n",
       "      <th>Contract</th>\n",
       "      <th>...</th>\n",
       "      <th>A/W</th>\n",
       "      <th>D/W</th>\n",
       "      <th>IR</th>\n",
       "      <th>PAC</th>\n",
       "      <th>SHO</th>\n",
       "      <th>PAS</th>\n",
       "      <th>DRI</th>\n",
       "      <th>DEF</th>\n",
       "      <th>PHY</th>\n",
       "      <th>Hits</th>\n",
       "    </tr>\n",
       "  </thead>\n",
       "  <tbody>\n",
       "    <tr>\n",
       "      <th>10333</th>\n",
       "      <td>199321</td>\n",
       "      <td>Tomáš Holý</td>\n",
       "      <td>https://cdn.sofifa.com/players/199/321/21_60.png</td>\n",
       "      <td>http://sofifa.com/player/199321/tomas-holy/210...</td>\n",
       "      <td>Czech Republic</td>\n",
       "      <td>28</td>\n",
       "      <td>65</td>\n",
       "      <td>67</td>\n",
       "      <td>Ipswich Town</td>\n",
       "      <td>2019 ~ 2022</td>\n",
       "      <td>...</td>\n",
       "      <td>Medium</td>\n",
       "      <td>Medium</td>\n",
       "      <td>1 ★</td>\n",
       "      <td>68</td>\n",
       "      <td>60</td>\n",
       "      <td>56</td>\n",
       "      <td>69</td>\n",
       "      <td>28</td>\n",
       "      <td>65</td>\n",
       "      <td>16</td>\n",
       "    </tr>\n",
       "  </tbody>\n",
       "</table>\n",
       "<p>1 rows × 76 columns</p>\n",
       "</div>"
      ],
      "text/plain": [
       "           ID    LongName                                          photoUrl  \\\n",
       "10333  199321  Tomáš Holý  https://cdn.sofifa.com/players/199/321/21_60.png   \n",
       "\n",
       "                                               playerUrl     Nationality  Age  \\\n",
       "10333  http://sofifa.com/player/199321/tomas-holy/210...  Czech Republic   28   \n",
       "\n",
       "       OVA  POT          Club     Contract  ...     A/W     D/W   IR PAC  SHO  \\\n",
       "10333   65   67  Ipswich Town  2019 ~ 2022  ...  Medium  Medium  1 ★  68   60   \n",
       "\n",
       "      PAS DRI DEF PHY Hits  \n",
       "10333  56  69  28  65   16  \n",
       "\n",
       "[1 rows x 76 columns]"
      ]
     },
     "execution_count": 45,
     "metadata": {},
     "output_type": "execute_result"
    }
   ],
   "source": [
    "#the tallest player\n",
    "\n",
    "fifa[fifa['Height'].max()== fifa['Height']]"
   ]
  },
  {
   "cell_type": "code",
   "execution_count": null,
   "id": "68efeb05",
   "metadata": {},
   "outputs": [],
   "source": []
  },
  {
   "cell_type": "code",
   "execution_count": 46,
   "id": "0d5516d7",
   "metadata": {},
   "outputs": [
    {
     "data": {
      "text/plain": [
       "0        72kg\n",
       "1        83kg\n",
       "2        87kg\n",
       "3        70kg\n",
       "4        68kg\n",
       "         ... \n",
       "18974    66kg\n",
       "18975    65kg\n",
       "18976    74kg\n",
       "18977    69kg\n",
       "18978    75kg\n",
       "Name: Weight, Length: 18979, dtype: object"
      ]
     },
     "execution_count": 46,
     "metadata": {},
     "output_type": "execute_result"
    }
   ],
   "source": [
    "fifa['Weight']"
   ]
  },
  {
   "cell_type": "code",
   "execution_count": 47,
   "id": "fcd6d473",
   "metadata": {},
   "outputs": [
    {
     "data": {
      "text/plain": [
       "40"
      ]
     },
     "execution_count": 47,
     "metadata": {},
     "output_type": "execute_result"
    }
   ],
   "source": [
    "fifa['Weight'].str.endswith('lbs').sum()"
   ]
  },
  {
   "cell_type": "markdown",
   "id": "ddb5480e",
   "metadata": {},
   "source": [
    "Some weight are recorded in lbs and some are in kg Converting them to same units."
   ]
  },
  {
   "cell_type": "code",
   "execution_count": 48,
   "id": "8fd45b08",
   "metadata": {},
   "outputs": [],
   "source": [
    "##function that changes the weights to kg\n",
    "def to_kg(x):\n",
    "    if x['Weight'].endswith('lbs'):\n",
    "        return int(x['Weight'].strip('lbs'))*0.45\n",
    "    else:\n",
    "        return int(x['Weight'].strip('kg'))"
   ]
  },
  {
   "cell_type": "code",
   "execution_count": 49,
   "id": "d513ef24",
   "metadata": {},
   "outputs": [],
   "source": [
    "fifa['Weight'] = fifa.apply(to_kg, axis=1)"
   ]
  },
  {
   "cell_type": "code",
   "execution_count": 50,
   "id": "b99aae0b",
   "metadata": {
    "scrolled": true
   },
   "outputs": [
    {
     "data": {
      "text/html": [
       "<div>\n",
       "<style scoped>\n",
       "    .dataframe tbody tr th:only-of-type {\n",
       "        vertical-align: middle;\n",
       "    }\n",
       "\n",
       "    .dataframe tbody tr th {\n",
       "        vertical-align: top;\n",
       "    }\n",
       "\n",
       "    .dataframe thead th {\n",
       "        text-align: right;\n",
       "    }\n",
       "</style>\n",
       "<table border=\"1\" class=\"dataframe\">\n",
       "  <thead>\n",
       "    <tr style=\"text-align: right;\">\n",
       "      <th></th>\n",
       "      <th>ID</th>\n",
       "      <th>LongName</th>\n",
       "      <th>photoUrl</th>\n",
       "      <th>playerUrl</th>\n",
       "      <th>Nationality</th>\n",
       "      <th>Age</th>\n",
       "      <th>OVA</th>\n",
       "      <th>POT</th>\n",
       "      <th>Club</th>\n",
       "      <th>Contract</th>\n",
       "      <th>...</th>\n",
       "      <th>A/W</th>\n",
       "      <th>D/W</th>\n",
       "      <th>IR</th>\n",
       "      <th>PAC</th>\n",
       "      <th>SHO</th>\n",
       "      <th>PAS</th>\n",
       "      <th>DRI</th>\n",
       "      <th>DEF</th>\n",
       "      <th>PHY</th>\n",
       "      <th>Hits</th>\n",
       "    </tr>\n",
       "  </thead>\n",
       "  <tbody>\n",
       "    <tr>\n",
       "      <th>10272</th>\n",
       "      <td>156321</td>\n",
       "      <td>Adebayo Akinfenwa</td>\n",
       "      <td>https://cdn.sofifa.com/players/156/321/21_60.png</td>\n",
       "      <td>http://sofifa.com/player/156321/adebayo-akinfe...</td>\n",
       "      <td>England</td>\n",
       "      <td>38</td>\n",
       "      <td>65</td>\n",
       "      <td>65</td>\n",
       "      <td>Wycombe Wanderers</td>\n",
       "      <td>2016 ~ 2021</td>\n",
       "      <td>...</td>\n",
       "      <td>Low</td>\n",
       "      <td>Low</td>\n",
       "      <td>1 ★</td>\n",
       "      <td>42</td>\n",
       "      <td>64</td>\n",
       "      <td>54</td>\n",
       "      <td>56</td>\n",
       "      <td>35</td>\n",
       "      <td>81</td>\n",
       "      <td>109</td>\n",
       "    </tr>\n",
       "  </tbody>\n",
       "</table>\n",
       "<p>1 rows × 76 columns</p>\n",
       "</div>"
      ],
      "text/plain": [
       "           ID           LongName  \\\n",
       "10272  156321  Adebayo Akinfenwa   \n",
       "\n",
       "                                               photoUrl  \\\n",
       "10272  https://cdn.sofifa.com/players/156/321/21_60.png   \n",
       "\n",
       "                                               playerUrl Nationality  Age  \\\n",
       "10272  http://sofifa.com/player/156321/adebayo-akinfe...     England   38   \n",
       "\n",
       "       OVA  POT               Club     Contract  ...  A/W  D/W   IR PAC  SHO  \\\n",
       "10272   65   65  Wycombe Wanderers  2016 ~ 2021  ...  Low  Low  1 ★  42   64   \n",
       "\n",
       "      PAS DRI DEF PHY Hits  \n",
       "10272  54  56  35  81  109  \n",
       "\n",
       "[1 rows x 76 columns]"
      ]
     },
     "execution_count": 50,
     "metadata": {},
     "output_type": "execute_result"
    }
   ],
   "source": [
    "#The heaviest player\n",
    "fifa[fifa['Weight'].max()==fifa['Weight']]"
   ]
  },
  {
   "cell_type": "code",
   "execution_count": null,
   "id": "94edbecb",
   "metadata": {},
   "outputs": [],
   "source": []
  },
  {
   "cell_type": "code",
   "execution_count": 51,
   "id": "04131353",
   "metadata": {},
   "outputs": [
    {
     "data": {
      "text/plain": [
       "0         Left\n",
       "1        Right\n",
       "2        Right\n",
       "3        Right\n",
       "4        Right\n",
       "         ...  \n",
       "18974    Right\n",
       "18975    Right\n",
       "18976    Right\n",
       "18977    Right\n",
       "18978     Left\n",
       "Name: Preferred Foot, Length: 18979, dtype: object"
      ]
     },
     "execution_count": 51,
     "metadata": {},
     "output_type": "execute_result"
    }
   ],
   "source": [
    "fifa['Preferred Foot']"
   ]
  },
  {
   "cell_type": "code",
   "execution_count": 52,
   "id": "337cd450",
   "metadata": {},
   "outputs": [
    {
     "data": {
      "text/plain": [
       "Right    14445\n",
       "Left      4534\n",
       "Name: Preferred Foot, dtype: int64"
      ]
     },
     "execution_count": 52,
     "metadata": {},
     "output_type": "execute_result"
    }
   ],
   "source": [
    "#most players prefer their right foot to their left foot\n",
    "fifa['Preferred Foot'].value_counts()"
   ]
  },
  {
   "cell_type": "code",
   "execution_count": 53,
   "id": "1f2e7212",
   "metadata": {},
   "outputs": [],
   "source": [
    "fifa['Preferred Foot']= fifa['Preferred Foot'].astype('category')"
   ]
  },
  {
   "cell_type": "code",
   "execution_count": 54,
   "id": "56f42815",
   "metadata": {},
   "outputs": [
    {
     "data": {
      "text/plain": [
       "<AxesSubplot:xlabel='Preferred Foot', ylabel='count'>"
      ]
     },
     "execution_count": 54,
     "metadata": {},
     "output_type": "execute_result"
    },
    {
     "data": {
      "image/png": "[encoded data removed]",
      "text/plain": [
       "<Figure size 432x288 with 1 Axes>"
      ]
     },
     "metadata": {
      "needs_background": "light"
     },
     "output_type": "display_data"
    }
   ],
   "source": [
    "sns.countplot(data=fifa,x='Preferred Foot')"
   ]
  },
  {
   "cell_type": "code",
   "execution_count": null,
   "id": "32654739",
   "metadata": {},
   "outputs": [],
   "source": []
  },
  {
   "cell_type": "code",
   "execution_count": 55,
   "id": "0bf19c19",
   "metadata": {},
   "outputs": [
    {
     "data": {
      "text/plain": [
       "93"
      ]
     },
     "execution_count": 55,
     "metadata": {},
     "output_type": "execute_result"
    }
   ],
   "source": [
    "fifa['BOV'].max()"
   ]
  },
  {
   "cell_type": "code",
   "execution_count": 56,
   "id": "99a79e35",
   "metadata": {},
   "outputs": [
    {
     "data": {
      "text/plain": [
       "48"
      ]
     },
     "execution_count": 56,
     "metadata": {},
     "output_type": "execute_result"
    }
   ],
   "source": [
    "fifa['BOV'].min()"
   ]
  },
  {
   "cell_type": "code",
   "execution_count": null,
   "id": "9a155aca",
   "metadata": {},
   "outputs": [],
   "source": []
  },
  {
   "cell_type": "code",
   "execution_count": 57,
   "id": "ad7cbc68",
   "metadata": {},
   "outputs": [
    {
     "data": {
      "text/plain": [
       "CB     3686\n",
       "ST     2680\n",
       "CAM    2299\n",
       "GK     2075\n",
       "RM     1611\n",
       "CDM    1445\n",
       "LB     1086\n",
       "RB     1079\n",
       "CM     1047\n",
       "LM      871\n",
       "RW      298\n",
       "RWB     277\n",
       "LWB     261\n",
       "LW      186\n",
       "CF       78\n",
       "Name: Best Position, dtype: int64"
      ]
     },
     "execution_count": 57,
     "metadata": {},
     "output_type": "execute_result"
    }
   ],
   "source": [
    "fifa['Best Position'].value_counts()"
   ]
  },
  {
   "cell_type": "code",
   "execution_count": 58,
   "id": "f0548f9b",
   "metadata": {},
   "outputs": [],
   "source": [
    "fifa['Best Position'] = fifa['Best Position'].astype('category')"
   ]
  },
  {
   "cell_type": "code",
   "execution_count": 59,
   "id": "c7491e3c",
   "metadata": {},
   "outputs": [
    {
     "data": {
      "text/plain": [
       "<AxesSubplot:xlabel='count', ylabel='Best Position'>"
      ]
     },
     "execution_count": 59,
     "metadata": {},
     "output_type": "execute_result"
    },
    {
     "data": {
      "image/png": "[encoded data removed]",
      "text/plain": [
       "<Figure size 720x720 with 1 Axes>"
      ]
     },
     "metadata": {
      "needs_background": "light"
     },
     "output_type": "display_data"
    }
   ],
   "source": [
    "plt.figure(figsize=(10,10))\n",
    "sns.countplot(data=fifa, y='Best Position', orient='h')"
   ]
  },
  {
   "cell_type": "raw",
   "id": "7ed6bc38",
   "metadata": {},
   "source": [
    "Majority of the players are comfortable at the CB position and very few are at the CF position."
   ]
  },
  {
   "cell_type": "code",
   "execution_count": null,
   "id": "822798d1",
   "metadata": {},
   "outputs": [],
   "source": []
  },
  {
   "cell_type": "code",
   "execution_count": 60,
   "id": "51daaea4",
   "metadata": {},
   "outputs": [
    {
     "data": {
      "text/plain": [
       "0         Jul 1, 2004\n",
       "1        Jul 10, 2018\n",
       "2        Jul 16, 2014\n",
       "3        Aug 30, 2015\n",
       "4         Aug 3, 2017\n",
       "             ...     \n",
       "18974    Jul 13, 2018\n",
       "18975     Aug 1, 2020\n",
       "18976     Mar 8, 2019\n",
       "18977    Sep 22, 2020\n",
       "18978    Jul 29, 2019\n",
       "Name: Joined, Length: 18979, dtype: object"
      ]
     },
     "execution_count": 60,
     "metadata": {},
     "output_type": "execute_result"
    }
   ],
   "source": [
    "fifa['Joined']"
   ]
  },
  {
   "cell_type": "code",
   "execution_count": null,
   "id": "4c69449b",
   "metadata": {},
   "outputs": [],
   "source": []
  },
  {
   "cell_type": "code",
   "execution_count": 61,
   "id": "b30112e1",
   "metadata": {
    "scrolled": true
   },
   "outputs": [
    {
     "data": {
      "text/plain": [
       "Index(['ID', 'LongName', 'photoUrl', 'playerUrl', 'Nationality', 'Age', 'OVA',\n",
       "       'POT', 'Club', 'Contract', 'Positions', 'Height', 'Weight',\n",
       "       'Preferred Foot', 'BOV', 'Best Position', 'Joined', 'Loan Date End',\n",
       "       'Value', 'Wage', 'Release Clause', 'Attacking', 'Crossing', 'Finishing',\n",
       "       'Heading Accuracy', 'Short Passing', 'Volleys', 'Skill', 'Dribbling',\n",
       "       'Curve', 'FK Accuracy', 'Long Passing', 'Ball Control', 'Movement',\n",
       "       'Acceleration', 'Sprint Speed', 'Agility', 'Reactions', 'Balance',\n",
       "       'Power', 'Shot Power', 'Jumping', 'Stamina', 'Strength', 'Long Shots',\n",
       "       'Mentality', 'Aggression', 'Interceptions', 'Positioning', 'Vision',\n",
       "       'Penalties', 'Composure', 'Defending', 'Marking', 'Standing Tackle',\n",
       "       'Sliding Tackle', 'Goalkeeping', 'GK Diving', 'GK Handling',\n",
       "       'GK Kicking', 'GK Positioning', 'GK Reflexes', 'Total Stats',\n",
       "       'Base Stats', 'W/F', 'SM', 'A/W', 'D/W', 'IR', 'PAC', 'SHO', 'PAS',\n",
       "       'DRI', 'DEF', 'PHY', 'Hits'],\n",
       "      dtype='object')"
      ]
     },
     "execution_count": 61,
     "metadata": {},
     "output_type": "execute_result"
    }
   ],
   "source": [
    "fifa.columns"
   ]
  },
  {
   "cell_type": "code",
   "execution_count": 62,
   "id": "9ae51e8e",
   "metadata": {},
   "outputs": [
    {
     "data": {
      "text/plain": [
       "0        €103.5M\n",
       "1           €63M\n",
       "2          €120M\n",
       "3          €129M\n",
       "4          €132M\n",
       "          ...   \n",
       "18974      €100K\n",
       "18975      €130K\n",
       "18976      €120K\n",
       "18977      €100K\n",
       "18978      €100K\n",
       "Name: Value, Length: 18979, dtype: object"
      ]
     },
     "execution_count": 62,
     "metadata": {},
     "output_type": "execute_result"
    }
   ],
   "source": [
    "fifa['Value']"
   ]
  },
  {
   "cell_type": "code",
   "execution_count": 63,
   "id": "69b467b6",
   "metadata": {},
   "outputs": [],
   "source": [
    "#changing the players' value to euros(float)\n",
    "def to_euros(x):\n",
    "    x['Value']= x['Value'][1:]\n",
    "    if x['Value'].endswith('K'):\n",
    "        return float(x['Value'].strip('K'))*1000\n",
    "    else:\n",
    "        return float(x['Value'].strip('M'))*1_000_000"
   ]
  },
  {
   "cell_type": "code",
   "execution_count": 64,
   "id": "7c1c40fc",
   "metadata": {},
   "outputs": [],
   "source": [
    "fifa['Value'] =fifa.apply(to_euros, axis=1)"
   ]
  },
  {
   "cell_type": "code",
   "execution_count": 65,
   "id": "cbb42ca1",
   "metadata": {},
   "outputs": [
    {
     "data": {
      "text/plain": [
       "0        €560K\n",
       "1        €220K\n",
       "2        €125K\n",
       "3        €370K\n",
       "4        €270K\n",
       "         ...  \n",
       "18974      €1K\n",
       "18975     €500\n",
       "18976     €500\n",
       "18977      €2K\n",
       "18978      €1K\n",
       "Name: Wage, Length: 18979, dtype: object"
      ]
     },
     "execution_count": 65,
     "metadata": {},
     "output_type": "execute_result"
    }
   ],
   "source": [
    "fifa['Wage']"
   ]
  },
  {
   "cell_type": "code",
   "execution_count": 66,
   "id": "e9ba0139",
   "metadata": {},
   "outputs": [],
   "source": [
    "#wages to float\n",
    "def wages_euros(x):\n",
    "    x['Wage']= x['Wage'][1:]\n",
    "    if x['Wage'].endswith('K'):\n",
    "        return float(x['Wage'].strip('K'))*1_000\n",
    "    else:\n",
    "        return float(x['Wage'].strip('M'))*1_000_000"
   ]
  },
  {
   "cell_type": "code",
   "execution_count": 67,
   "id": "5710bd1f",
   "metadata": {},
   "outputs": [],
   "source": [
    "fifa['Wage']= fifa.apply(wages_euros, axis= 1)"
   ]
  },
  {
   "cell_type": "code",
   "execution_count": 68,
   "id": "7ed3a7e9",
   "metadata": {},
   "outputs": [
    {
     "data": {
      "text/plain": [
       "dtype('float64')"
      ]
     },
     "execution_count": 68,
     "metadata": {},
     "output_type": "execute_result"
    }
   ],
   "source": [
    "fifa['Wage'].dtype"
   ]
  },
  {
   "cell_type": "code",
   "execution_count": null,
   "id": "8d5dd037",
   "metadata": {},
   "outputs": [],
   "source": []
  },
  {
   "cell_type": "code",
   "execution_count": 69,
   "id": "9f6c12b2",
   "metadata": {},
   "outputs": [
    {
     "data": {
      "text/plain": [
       "0    €138.4M\n",
       "1     €75.9M\n",
       "2    €159.4M\n",
       "3      €161M\n",
       "4    €166.5M\n",
       "Name: Release Clause, dtype: object"
      ]
     },
     "execution_count": 69,
     "metadata": {},
     "output_type": "execute_result"
    }
   ],
   "source": [
    "fifa['Release Clause'].head()"
   ]
  },
  {
   "cell_type": "code",
   "execution_count": 70,
   "id": "0821ba9f",
   "metadata": {},
   "outputs": [],
   "source": [
    "#release clause to euros\n",
    "def release_euros(x):\n",
    "    x['Release Clause']= x['Release Clause'][1:]\n",
    "    if x['Release Clause'].endswith('K'):\n",
    "        return float(x['Release Clause'].strip('K'))*1_000\n",
    "    else:\n",
    "        return float(x['Release Clause'].strip('M'))*1_000_000"
   ]
  },
  {
   "cell_type": "code",
   "execution_count": 71,
   "id": "ab3be758",
   "metadata": {},
   "outputs": [],
   "source": [
    "fifa['Release Clause'] = fifa.apply(release_euros, axis=1)"
   ]
  },
  {
   "cell_type": "code",
   "execution_count": 72,
   "id": "0bb46aaa",
   "metadata": {},
   "outputs": [
    {
     "data": {
      "text/html": [
       "<div>\n",
       "<style scoped>\n",
       "    .dataframe tbody tr th:only-of-type {\n",
       "        vertical-align: middle;\n",
       "    }\n",
       "\n",
       "    .dataframe tbody tr th {\n",
       "        vertical-align: top;\n",
       "    }\n",
       "\n",
       "    .dataframe thead th {\n",
       "        text-align: right;\n",
       "    }\n",
       "</style>\n",
       "<table border=\"1\" class=\"dataframe\">\n",
       "  <thead>\n",
       "    <tr style=\"text-align: right;\">\n",
       "      <th></th>\n",
       "      <th>Value</th>\n",
       "      <th>Wage</th>\n",
       "      <th>Release Clause</th>\n",
       "    </tr>\n",
       "  </thead>\n",
       "  <tbody>\n",
       "    <tr>\n",
       "      <th>0</th>\n",
       "      <td>103500000.0</td>\n",
       "      <td>560000.0</td>\n",
       "      <td>138400000.0</td>\n",
       "    </tr>\n",
       "    <tr>\n",
       "      <th>1</th>\n",
       "      <td>63000000.0</td>\n",
       "      <td>220000.0</td>\n",
       "      <td>75900000.0</td>\n",
       "    </tr>\n",
       "    <tr>\n",
       "      <th>2</th>\n",
       "      <td>120000000.0</td>\n",
       "      <td>125000.0</td>\n",
       "      <td>159400000.0</td>\n",
       "    </tr>\n",
       "    <tr>\n",
       "      <th>3</th>\n",
       "      <td>129000000.0</td>\n",
       "      <td>370000.0</td>\n",
       "      <td>161000000.0</td>\n",
       "    </tr>\n",
       "    <tr>\n",
       "      <th>4</th>\n",
       "      <td>132000000.0</td>\n",
       "      <td>270000.0</td>\n",
       "      <td>166500000.0</td>\n",
       "    </tr>\n",
       "    <tr>\n",
       "      <th>...</th>\n",
       "      <td>...</td>\n",
       "      <td>...</td>\n",
       "      <td>...</td>\n",
       "    </tr>\n",
       "    <tr>\n",
       "      <th>18974</th>\n",
       "      <td>100000.0</td>\n",
       "      <td>1000.0</td>\n",
       "      <td>70000.0</td>\n",
       "    </tr>\n",
       "    <tr>\n",
       "      <th>18975</th>\n",
       "      <td>130000.0</td>\n",
       "      <td>500000000.0</td>\n",
       "      <td>165000.0</td>\n",
       "    </tr>\n",
       "    <tr>\n",
       "      <th>18976</th>\n",
       "      <td>120000.0</td>\n",
       "      <td>500000000.0</td>\n",
       "      <td>131000.0</td>\n",
       "    </tr>\n",
       "    <tr>\n",
       "      <th>18977</th>\n",
       "      <td>100000.0</td>\n",
       "      <td>2000.0</td>\n",
       "      <td>88000.0</td>\n",
       "    </tr>\n",
       "    <tr>\n",
       "      <th>18978</th>\n",
       "      <td>100000.0</td>\n",
       "      <td>1000.0</td>\n",
       "      <td>79000.0</td>\n",
       "    </tr>\n",
       "  </tbody>\n",
       "</table>\n",
       "<p>18979 rows × 3 columns</p>\n",
       "</div>"
      ],
      "text/plain": [
       "             Value         Wage  Release Clause\n",
       "0      103500000.0     560000.0     138400000.0\n",
       "1       63000000.0     220000.0      75900000.0\n",
       "2      120000000.0     125000.0     159400000.0\n",
       "3      129000000.0     370000.0     161000000.0\n",
       "4      132000000.0     270000.0     166500000.0\n",
       "...            ...          ...             ...\n",
       "18974     100000.0       1000.0         70000.0\n",
       "18975     130000.0  500000000.0        165000.0\n",
       "18976     120000.0  500000000.0        131000.0\n",
       "18977     100000.0       2000.0         88000.0\n",
       "18978     100000.0       1000.0         79000.0\n",
       "\n",
       "[18979 rows x 3 columns]"
      ]
     },
     "execution_count": 72,
     "metadata": {},
     "output_type": "execute_result"
    }
   ],
   "source": [
    "fifa[['Value', 'Wage','Release Clause']]"
   ]
  },
  {
   "cell_type": "code",
   "execution_count": null,
   "id": "27ccd584",
   "metadata": {},
   "outputs": [],
   "source": []
  },
  {
   "cell_type": "code",
   "execution_count": 73,
   "id": "c13cf533",
   "metadata": {},
   "outputs": [
    {
     "data": {
      "text/plain": [
       "Index(['ID', 'LongName', 'photoUrl', 'playerUrl', 'Nationality', 'Age', 'OVA',\n",
       "       'POT', 'Club', 'Contract', 'Positions', 'Height', 'Weight',\n",
       "       'Preferred Foot', 'BOV', 'Best Position', 'Joined', 'Loan Date End',\n",
       "       'Value', 'Wage', 'Release Clause', 'Attacking', 'Crossing', 'Finishing',\n",
       "       'Heading Accuracy', 'Short Passing', 'Volleys', 'Skill', 'Dribbling',\n",
       "       'Curve', 'FK Accuracy', 'Long Passing', 'Ball Control', 'Movement',\n",
       "       'Acceleration', 'Sprint Speed', 'Agility', 'Reactions', 'Balance',\n",
       "       'Power', 'Shot Power', 'Jumping', 'Stamina', 'Strength', 'Long Shots',\n",
       "       'Mentality', 'Aggression', 'Interceptions', 'Positioning', 'Vision',\n",
       "       'Penalties', 'Composure', 'Defending', 'Marking', 'Standing Tackle',\n",
       "       'Sliding Tackle', 'Goalkeeping', 'GK Diving', 'GK Handling',\n",
       "       'GK Kicking', 'GK Positioning', 'GK Reflexes', 'Total Stats',\n",
       "       'Base Stats', 'W/F', 'SM', 'A/W', 'D/W', 'IR', 'PAC', 'SHO', 'PAS',\n",
       "       'DRI', 'DEF', 'PHY', 'Hits'],\n",
       "      dtype='object')"
      ]
     },
     "execution_count": 73,
     "metadata": {},
     "output_type": "execute_result"
    }
   ],
   "source": [
    "fifa.columns"
   ]
  },
  {
   "cell_type": "code",
   "execution_count": 74,
   "id": "e0bc552b",
   "metadata": {},
   "outputs": [
    {
     "data": {
      "text/html": [
       "<div>\n",
       "<style scoped>\n",
       "    .dataframe tbody tr th:only-of-type {\n",
       "        vertical-align: middle;\n",
       "    }\n",
       "\n",
       "    .dataframe tbody tr th {\n",
       "        vertical-align: top;\n",
       "    }\n",
       "\n",
       "    .dataframe thead th {\n",
       "        text-align: right;\n",
       "    }\n",
       "</style>\n",
       "<table border=\"1\" class=\"dataframe\">\n",
       "  <thead>\n",
       "    <tr style=\"text-align: right;\">\n",
       "      <th></th>\n",
       "      <th>Attacking</th>\n",
       "      <th>Crossing</th>\n",
       "      <th>Finishing</th>\n",
       "      <th>Heading Accuracy</th>\n",
       "      <th>Short Passing</th>\n",
       "      <th>Volleys</th>\n",
       "      <th>Skill</th>\n",
       "      <th>Dribbling</th>\n",
       "      <th>Curve</th>\n",
       "      <th>FK Accuracy</th>\n",
       "      <th>...</th>\n",
       "      <th>Standing Tackle</th>\n",
       "      <th>Sliding Tackle</th>\n",
       "      <th>Goalkeeping</th>\n",
       "      <th>GK Diving</th>\n",
       "      <th>GK Handling</th>\n",
       "      <th>GK Kicking</th>\n",
       "      <th>GK Positioning</th>\n",
       "      <th>GK Reflexes</th>\n",
       "      <th>Total Stats</th>\n",
       "      <th>Base Stats</th>\n",
       "    </tr>\n",
       "  </thead>\n",
       "  <tbody>\n",
       "    <tr>\n",
       "      <th>count</th>\n",
       "      <td>18979.000000</td>\n",
       "      <td>18979.000000</td>\n",
       "      <td>18979.000000</td>\n",
       "      <td>18979.000000</td>\n",
       "      <td>18979.000000</td>\n",
       "      <td>18979.000000</td>\n",
       "      <td>18979.000000</td>\n",
       "      <td>18979.000000</td>\n",
       "      <td>18979.000000</td>\n",
       "      <td>18979.000000</td>\n",
       "      <td>...</td>\n",
       "      <td>18979.000000</td>\n",
       "      <td>18979.000000</td>\n",
       "      <td>18979.000000</td>\n",
       "      <td>18979.000000</td>\n",
       "      <td>18979.000000</td>\n",
       "      <td>18979.000000</td>\n",
       "      <td>18979.000000</td>\n",
       "      <td>18979.000000</td>\n",
       "      <td>18979.000000</td>\n",
       "      <td>18979.000000</td>\n",
       "    </tr>\n",
       "    <tr>\n",
       "      <th>mean</th>\n",
       "      <td>248.938142</td>\n",
       "      <td>49.688392</td>\n",
       "      <td>45.842405</td>\n",
       "      <td>51.942726</td>\n",
       "      <td>58.768112</td>\n",
       "      <td>42.696507</td>\n",
       "      <td>256.479214</td>\n",
       "      <td>55.587491</td>\n",
       "      <td>47.246957</td>\n",
       "      <td>42.391011</td>\n",
       "      <td>...</td>\n",
       "      <td>47.705622</td>\n",
       "      <td>45.644449</td>\n",
       "      <td>81.436693</td>\n",
       "      <td>16.416302</td>\n",
       "      <td>16.207124</td>\n",
       "      <td>16.076453</td>\n",
       "      <td>16.217187</td>\n",
       "      <td>16.519627</td>\n",
       "      <td>1595.286949</td>\n",
       "      <td>355.702197</td>\n",
       "    </tr>\n",
       "    <tr>\n",
       "      <th>std</th>\n",
       "      <td>74.299428</td>\n",
       "      <td>18.131153</td>\n",
       "      <td>19.567081</td>\n",
       "      <td>17.294409</td>\n",
       "      <td>14.519106</td>\n",
       "      <td>17.646937</td>\n",
       "      <td>78.650601</td>\n",
       "      <td>18.761314</td>\n",
       "      <td>18.207790</td>\n",
       "      <td>17.227947</td>\n",
       "      <td>...</td>\n",
       "      <td>21.367690</td>\n",
       "      <td>20.922087</td>\n",
       "      <td>84.665579</td>\n",
       "      <td>17.554194</td>\n",
       "      <td>16.816305</td>\n",
       "      <td>16.491103</td>\n",
       "      <td>17.002239</td>\n",
       "      <td>17.854079</td>\n",
       "      <td>269.874789</td>\n",
       "      <td>40.761117</td>\n",
       "    </tr>\n",
       "    <tr>\n",
       "      <th>min</th>\n",
       "      <td>42.000000</td>\n",
       "      <td>6.000000</td>\n",
       "      <td>3.000000</td>\n",
       "      <td>5.000000</td>\n",
       "      <td>7.000000</td>\n",
       "      <td>3.000000</td>\n",
       "      <td>40.000000</td>\n",
       "      <td>5.000000</td>\n",
       "      <td>4.000000</td>\n",
       "      <td>5.000000</td>\n",
       "      <td>...</td>\n",
       "      <td>5.000000</td>\n",
       "      <td>4.000000</td>\n",
       "      <td>10.000000</td>\n",
       "      <td>2.000000</td>\n",
       "      <td>2.000000</td>\n",
       "      <td>2.000000</td>\n",
       "      <td>2.000000</td>\n",
       "      <td>2.000000</td>\n",
       "      <td>747.000000</td>\n",
       "      <td>232.000000</td>\n",
       "    </tr>\n",
       "    <tr>\n",
       "      <th>25%</th>\n",
       "      <td>222.000000</td>\n",
       "      <td>38.000000</td>\n",
       "      <td>30.000000</td>\n",
       "      <td>44.000000</td>\n",
       "      <td>54.000000</td>\n",
       "      <td>30.000000</td>\n",
       "      <td>222.000000</td>\n",
       "      <td>49.000000</td>\n",
       "      <td>35.000000</td>\n",
       "      <td>31.000000</td>\n",
       "      <td>...</td>\n",
       "      <td>27.000000</td>\n",
       "      <td>25.000000</td>\n",
       "      <td>48.000000</td>\n",
       "      <td>8.000000</td>\n",
       "      <td>8.000000</td>\n",
       "      <td>8.000000</td>\n",
       "      <td>8.000000</td>\n",
       "      <td>8.000000</td>\n",
       "      <td>1452.000000</td>\n",
       "      <td>327.000000</td>\n",
       "    </tr>\n",
       "    <tr>\n",
       "      <th>50%</th>\n",
       "      <td>263.000000</td>\n",
       "      <td>54.000000</td>\n",
       "      <td>49.000000</td>\n",
       "      <td>55.000000</td>\n",
       "      <td>62.000000</td>\n",
       "      <td>44.000000</td>\n",
       "      <td>269.000000</td>\n",
       "      <td>61.000000</td>\n",
       "      <td>49.000000</td>\n",
       "      <td>41.000000</td>\n",
       "      <td>...</td>\n",
       "      <td>55.000000</td>\n",
       "      <td>52.000000</td>\n",
       "      <td>53.000000</td>\n",
       "      <td>11.000000</td>\n",
       "      <td>11.000000</td>\n",
       "      <td>11.000000</td>\n",
       "      <td>11.000000</td>\n",
       "      <td>11.000000</td>\n",
       "      <td>1627.000000</td>\n",
       "      <td>356.000000</td>\n",
       "    </tr>\n",
       "    <tr>\n",
       "      <th>75%</th>\n",
       "      <td>297.000000</td>\n",
       "      <td>63.000000</td>\n",
       "      <td>62.000000</td>\n",
       "      <td>64.000000</td>\n",
       "      <td>68.000000</td>\n",
       "      <td>56.000000</td>\n",
       "      <td>310.000000</td>\n",
       "      <td>68.000000</td>\n",
       "      <td>61.000000</td>\n",
       "      <td>55.000000</td>\n",
       "      <td>...</td>\n",
       "      <td>65.000000</td>\n",
       "      <td>63.000000</td>\n",
       "      <td>59.000000</td>\n",
       "      <td>14.000000</td>\n",
       "      <td>14.000000</td>\n",
       "      <td>14.000000</td>\n",
       "      <td>14.000000</td>\n",
       "      <td>14.000000</td>\n",
       "      <td>1781.000000</td>\n",
       "      <td>384.000000</td>\n",
       "    </tr>\n",
       "    <tr>\n",
       "      <th>max</th>\n",
       "      <td>437.000000</td>\n",
       "      <td>94.000000</td>\n",
       "      <td>95.000000</td>\n",
       "      <td>93.000000</td>\n",
       "      <td>94.000000</td>\n",
       "      <td>90.000000</td>\n",
       "      <td>470.000000</td>\n",
       "      <td>96.000000</td>\n",
       "      <td>94.000000</td>\n",
       "      <td>94.000000</td>\n",
       "      <td>...</td>\n",
       "      <td>93.000000</td>\n",
       "      <td>90.000000</td>\n",
       "      <td>440.000000</td>\n",
       "      <td>90.000000</td>\n",
       "      <td>92.000000</td>\n",
       "      <td>93.000000</td>\n",
       "      <td>91.000000</td>\n",
       "      <td>90.000000</td>\n",
       "      <td>2316.000000</td>\n",
       "      <td>498.000000</td>\n",
       "    </tr>\n",
       "  </tbody>\n",
       "</table>\n",
       "<p>8 rows × 43 columns</p>\n",
       "</div>"
      ],
      "text/plain": [
       "          Attacking      Crossing     Finishing  Heading Accuracy  \\\n",
       "count  18979.000000  18979.000000  18979.000000      18979.000000   \n",
       "mean     248.938142     49.688392     45.842405         51.942726   \n",
       "std       74.299428     18.131153     19.567081         17.294409   \n",
       "min       42.000000      6.000000      3.000000          5.000000   \n",
       "25%      222.000000     38.000000     30.000000         44.000000   \n",
       "50%      263.000000     54.000000     49.000000         55.000000   \n",
       "75%      297.000000     63.000000     62.000000         64.000000   \n",
       "max      437.000000     94.000000     95.000000         93.000000   \n",
       "\n",
       "       Short Passing       Volleys         Skill     Dribbling         Curve  \\\n",
       "count   18979.000000  18979.000000  18979.000000  18979.000000  18979.000000   \n",
       "mean       58.768112     42.696507    256.479214     55.587491     47.246957   \n",
       "std        14.519106     17.646937     78.650601     18.761314     18.207790   \n",
       "min         7.000000      3.000000     40.000000      5.000000      4.000000   \n",
       "25%        54.000000     30.000000    222.000000     49.000000     35.000000   \n",
       "50%        62.000000     44.000000    269.000000     61.000000     49.000000   \n",
       "75%        68.000000     56.000000    310.000000     68.000000     61.000000   \n",
       "max        94.000000     90.000000    470.000000     96.000000     94.000000   \n",
       "\n",
       "        FK Accuracy  ...  Standing Tackle  Sliding Tackle   Goalkeeping  \\\n",
       "count  18979.000000  ...     18979.000000    18979.000000  18979.000000   \n",
       "mean      42.391011  ...        47.705622       45.644449     81.436693   \n",
       "std       17.227947  ...        21.367690       20.922087     84.665579   \n",
       "min        5.000000  ...         5.000000        4.000000     10.000000   \n",
       "25%       31.000000  ...        27.000000       25.000000     48.000000   \n",
       "50%       41.000000  ...        55.000000       52.000000     53.000000   \n",
       "75%       55.000000  ...        65.000000       63.000000     59.000000   \n",
       "max       94.000000  ...        93.000000       90.000000    440.000000   \n",
       "\n",
       "          GK Diving   GK Handling    GK Kicking  GK Positioning   GK Reflexes  \\\n",
       "count  18979.000000  18979.000000  18979.000000    18979.000000  18979.000000   \n",
       "mean      16.416302     16.207124     16.076453       16.217187     16.519627   \n",
       "std       17.554194     16.816305     16.491103       17.002239     17.854079   \n",
       "min        2.000000      2.000000      2.000000        2.000000      2.000000   \n",
       "25%        8.000000      8.000000      8.000000        8.000000      8.000000   \n",
       "50%       11.000000     11.000000     11.000000       11.000000     11.000000   \n",
       "75%       14.000000     14.000000     14.000000       14.000000     14.000000   \n",
       "max       90.000000     92.000000     93.000000       91.000000     90.000000   \n",
       "\n",
       "        Total Stats    Base Stats  \n",
       "count  18979.000000  18979.000000  \n",
       "mean    1595.286949    355.702197  \n",
       "std      269.874789     40.761117  \n",
       "min      747.000000    232.000000  \n",
       "25%     1452.000000    327.000000  \n",
       "50%     1627.000000    356.000000  \n",
       "75%     1781.000000    384.000000  \n",
       "max     2316.000000    498.000000  \n",
       "\n",
       "[8 rows x 43 columns]"
      ]
     },
     "execution_count": 74,
     "metadata": {},
     "output_type": "execute_result"
    }
   ],
   "source": [
    "#checking the stats of some attributes\n",
    "fifa.describe().loc[:,'Attacking':'Base Stats']"
   ]
  },
  {
   "cell_type": "code",
   "execution_count": null,
   "id": "14e91b33",
   "metadata": {},
   "outputs": [],
   "source": []
  },
  {
   "cell_type": "code",
   "execution_count": 75,
   "id": "333df295",
   "metadata": {},
   "outputs": [
    {
     "data": {
      "text/html": [
       "<div>\n",
       "<style scoped>\n",
       "    .dataframe tbody tr th:only-of-type {\n",
       "        vertical-align: middle;\n",
       "    }\n",
       "\n",
       "    .dataframe tbody tr th {\n",
       "        vertical-align: top;\n",
       "    }\n",
       "\n",
       "    .dataframe thead th {\n",
       "        text-align: right;\n",
       "    }\n",
       "</style>\n",
       "<table border=\"1\" class=\"dataframe\">\n",
       "  <thead>\n",
       "    <tr style=\"text-align: right;\">\n",
       "      <th></th>\n",
       "      <th>W/F</th>\n",
       "      <th>SM</th>\n",
       "      <th>A/W</th>\n",
       "      <th>D/W</th>\n",
       "      <th>IR</th>\n",
       "    </tr>\n",
       "  </thead>\n",
       "  <tbody>\n",
       "    <tr>\n",
       "      <th>0</th>\n",
       "      <td>4 ★</td>\n",
       "      <td>4★</td>\n",
       "      <td>Medium</td>\n",
       "      <td>Low</td>\n",
       "      <td>5 ★</td>\n",
       "    </tr>\n",
       "    <tr>\n",
       "      <th>1</th>\n",
       "      <td>4 ★</td>\n",
       "      <td>5★</td>\n",
       "      <td>High</td>\n",
       "      <td>Low</td>\n",
       "      <td>5 ★</td>\n",
       "    </tr>\n",
       "    <tr>\n",
       "      <th>2</th>\n",
       "      <td>3 ★</td>\n",
       "      <td>1★</td>\n",
       "      <td>Medium</td>\n",
       "      <td>Medium</td>\n",
       "      <td>3 ★</td>\n",
       "    </tr>\n",
       "    <tr>\n",
       "      <th>3</th>\n",
       "      <td>5 ★</td>\n",
       "      <td>4★</td>\n",
       "      <td>High</td>\n",
       "      <td>High</td>\n",
       "      <td>4 ★</td>\n",
       "    </tr>\n",
       "    <tr>\n",
       "      <th>4</th>\n",
       "      <td>5 ★</td>\n",
       "      <td>5★</td>\n",
       "      <td>High</td>\n",
       "      <td>Medium</td>\n",
       "      <td>5 ★</td>\n",
       "    </tr>\n",
       "    <tr>\n",
       "      <th>...</th>\n",
       "      <td>...</td>\n",
       "      <td>...</td>\n",
       "      <td>...</td>\n",
       "      <td>...</td>\n",
       "      <td>...</td>\n",
       "    </tr>\n",
       "    <tr>\n",
       "      <th>18974</th>\n",
       "      <td>2 ★</td>\n",
       "      <td>2★</td>\n",
       "      <td>Medium</td>\n",
       "      <td>Medium</td>\n",
       "      <td>1 ★</td>\n",
       "    </tr>\n",
       "    <tr>\n",
       "      <th>18975</th>\n",
       "      <td>2 ★</td>\n",
       "      <td>2★</td>\n",
       "      <td>Medium</td>\n",
       "      <td>Medium</td>\n",
       "      <td>1 ★</td>\n",
       "    </tr>\n",
       "    <tr>\n",
       "      <th>18976</th>\n",
       "      <td>2 ★</td>\n",
       "      <td>2★</td>\n",
       "      <td>Medium</td>\n",
       "      <td>Medium</td>\n",
       "      <td>1 ★</td>\n",
       "    </tr>\n",
       "    <tr>\n",
       "      <th>18977</th>\n",
       "      <td>3 ★</td>\n",
       "      <td>2★</td>\n",
       "      <td>Medium</td>\n",
       "      <td>Medium</td>\n",
       "      <td>1 ★</td>\n",
       "    </tr>\n",
       "    <tr>\n",
       "      <th>18978</th>\n",
       "      <td>3 ★</td>\n",
       "      <td>2★</td>\n",
       "      <td>Medium</td>\n",
       "      <td>Medium</td>\n",
       "      <td>1 ★</td>\n",
       "    </tr>\n",
       "  </tbody>\n",
       "</table>\n",
       "<p>18979 rows × 5 columns</p>\n",
       "</div>"
      ],
      "text/plain": [
       "       W/F  SM     A/W     D/W   IR\n",
       "0      4 ★  4★  Medium     Low  5 ★\n",
       "1      4 ★  5★    High     Low  5 ★\n",
       "2      3 ★  1★  Medium  Medium  3 ★\n",
       "3      5 ★  4★    High    High  4 ★\n",
       "4      5 ★  5★    High  Medium  5 ★\n",
       "...    ...  ..     ...     ...  ...\n",
       "18974  2 ★  2★  Medium  Medium  1 ★\n",
       "18975  2 ★  2★  Medium  Medium  1 ★\n",
       "18976  2 ★  2★  Medium  Medium  1 ★\n",
       "18977  3 ★  2★  Medium  Medium  1 ★\n",
       "18978  3 ★  2★  Medium  Medium  1 ★\n",
       "\n",
       "[18979 rows x 5 columns]"
      ]
     },
     "execution_count": 75,
     "metadata": {},
     "output_type": "execute_result"
    }
   ],
   "source": [
    "fifa[[ 'W/F', 'SM', 'A/W', 'D/W', 'IR']]"
   ]
  },
  {
   "cell_type": "code",
   "execution_count": 76,
   "id": "2cdf2d2f",
   "metadata": {},
   "outputs": [],
   "source": [
    "fifa['W/F']= fifa['W/F'].str.strip('★')"
   ]
  },
  {
   "cell_type": "code",
   "execution_count": 77,
   "id": "c153e174",
   "metadata": {},
   "outputs": [],
   "source": [
    "fifa['SM']= fifa['SM'].str.strip('★')"
   ]
  },
  {
   "cell_type": "code",
   "execution_count": 78,
   "id": "6d5a3797",
   "metadata": {},
   "outputs": [],
   "source": [
    "fifa['IR'] = fifa['IR'].str.strip('★')"
   ]
  },
  {
   "cell_type": "code",
   "execution_count": 79,
   "id": "746c795d",
   "metadata": {},
   "outputs": [],
   "source": [
    "fifa['A/W']= fifa['A/W'].astype('category')"
   ]
  },
  {
   "cell_type": "code",
   "execution_count": 80,
   "id": "a09821d9",
   "metadata": {},
   "outputs": [],
   "source": [
    "fifa['D/W']= fifa['D/W'].astype('category')"
   ]
  },
  {
   "cell_type": "code",
   "execution_count": 81,
   "id": "21e2f3bb",
   "metadata": {},
   "outputs": [
    {
     "data": {
      "text/html": [
       "<div>\n",
       "<style scoped>\n",
       "    .dataframe tbody tr th:only-of-type {\n",
       "        vertical-align: middle;\n",
       "    }\n",
       "\n",
       "    .dataframe tbody tr th {\n",
       "        vertical-align: top;\n",
       "    }\n",
       "\n",
       "    .dataframe thead th {\n",
       "        text-align: right;\n",
       "    }\n",
       "</style>\n",
       "<table border=\"1\" class=\"dataframe\">\n",
       "  <thead>\n",
       "    <tr style=\"text-align: right;\">\n",
       "      <th></th>\n",
       "      <th>W/F</th>\n",
       "      <th>SM</th>\n",
       "      <th>A/W</th>\n",
       "      <th>D/W</th>\n",
       "      <th>IR</th>\n",
       "    </tr>\n",
       "  </thead>\n",
       "  <tbody>\n",
       "    <tr>\n",
       "      <th>0</th>\n",
       "      <td>4</td>\n",
       "      <td>4</td>\n",
       "      <td>Medium</td>\n",
       "      <td>Low</td>\n",
       "      <td>5</td>\n",
       "    </tr>\n",
       "    <tr>\n",
       "      <th>1</th>\n",
       "      <td>4</td>\n",
       "      <td>5</td>\n",
       "      <td>High</td>\n",
       "      <td>Low</td>\n",
       "      <td>5</td>\n",
       "    </tr>\n",
       "    <tr>\n",
       "      <th>2</th>\n",
       "      <td>3</td>\n",
       "      <td>1</td>\n",
       "      <td>Medium</td>\n",
       "      <td>Medium</td>\n",
       "      <td>3</td>\n",
       "    </tr>\n",
       "    <tr>\n",
       "      <th>3</th>\n",
       "      <td>5</td>\n",
       "      <td>4</td>\n",
       "      <td>High</td>\n",
       "      <td>High</td>\n",
       "      <td>4</td>\n",
       "    </tr>\n",
       "    <tr>\n",
       "      <th>4</th>\n",
       "      <td>5</td>\n",
       "      <td>5</td>\n",
       "      <td>High</td>\n",
       "      <td>Medium</td>\n",
       "      <td>5</td>\n",
       "    </tr>\n",
       "    <tr>\n",
       "      <th>...</th>\n",
       "      <td>...</td>\n",
       "      <td>...</td>\n",
       "      <td>...</td>\n",
       "      <td>...</td>\n",
       "      <td>...</td>\n",
       "    </tr>\n",
       "    <tr>\n",
       "      <th>18974</th>\n",
       "      <td>2</td>\n",
       "      <td>2</td>\n",
       "      <td>Medium</td>\n",
       "      <td>Medium</td>\n",
       "      <td>1</td>\n",
       "    </tr>\n",
       "    <tr>\n",
       "      <th>18975</th>\n",
       "      <td>2</td>\n",
       "      <td>2</td>\n",
       "      <td>Medium</td>\n",
       "      <td>Medium</td>\n",
       "      <td>1</td>\n",
       "    </tr>\n",
       "    <tr>\n",
       "      <th>18976</th>\n",
       "      <td>2</td>\n",
       "      <td>2</td>\n",
       "      <td>Medium</td>\n",
       "      <td>Medium</td>\n",
       "      <td>1</td>\n",
       "    </tr>\n",
       "    <tr>\n",
       "      <th>18977</th>\n",
       "      <td>3</td>\n",
       "      <td>2</td>\n",
       "      <td>Medium</td>\n",
       "      <td>Medium</td>\n",
       "      <td>1</td>\n",
       "    </tr>\n",
       "    <tr>\n",
       "      <th>18978</th>\n",
       "      <td>3</td>\n",
       "      <td>2</td>\n",
       "      <td>Medium</td>\n",
       "      <td>Medium</td>\n",
       "      <td>1</td>\n",
       "    </tr>\n",
       "  </tbody>\n",
       "</table>\n",
       "<p>18979 rows × 5 columns</p>\n",
       "</div>"
      ],
      "text/plain": [
       "      W/F SM     A/W     D/W  IR\n",
       "0      4   4  Medium     Low  5 \n",
       "1      4   5    High     Low  5 \n",
       "2      3   1  Medium  Medium  3 \n",
       "3      5   4    High    High  4 \n",
       "4      5   5    High  Medium  5 \n",
       "...    .. ..     ...     ...  ..\n",
       "18974  2   2  Medium  Medium  1 \n",
       "18975  2   2  Medium  Medium  1 \n",
       "18976  2   2  Medium  Medium  1 \n",
       "18977  3   2  Medium  Medium  1 \n",
       "18978  3   2  Medium  Medium  1 \n",
       "\n",
       "[18979 rows x 5 columns]"
      ]
     },
     "execution_count": 81,
     "metadata": {},
     "output_type": "execute_result"
    }
   ],
   "source": [
    "fifa[[ 'W/F', 'SM', 'A/W', 'D/W', 'IR']]"
   ]
  },
  {
   "cell_type": "code",
   "execution_count": 82,
   "id": "cecad60b",
   "metadata": {},
   "outputs": [
    {
     "data": {
      "text/html": [
       "<div>\n",
       "<style scoped>\n",
       "    .dataframe tbody tr th:only-of-type {\n",
       "        vertical-align: middle;\n",
       "    }\n",
       "\n",
       "    .dataframe tbody tr th {\n",
       "        vertical-align: top;\n",
       "    }\n",
       "\n",
       "    .dataframe thead th {\n",
       "        text-align: right;\n",
       "    }\n",
       "</style>\n",
       "<table border=\"1\" class=\"dataframe\">\n",
       "  <thead>\n",
       "    <tr style=\"text-align: right;\">\n",
       "      <th></th>\n",
       "      <th>ID</th>\n",
       "      <th>LongName</th>\n",
       "      <th>photoUrl</th>\n",
       "      <th>playerUrl</th>\n",
       "      <th>Nationality</th>\n",
       "      <th>Age</th>\n",
       "      <th>OVA</th>\n",
       "      <th>POT</th>\n",
       "      <th>Club</th>\n",
       "      <th>Contract</th>\n",
       "      <th>...</th>\n",
       "      <th>A/W</th>\n",
       "      <th>D/W</th>\n",
       "      <th>IR</th>\n",
       "      <th>PAC</th>\n",
       "      <th>SHO</th>\n",
       "      <th>PAS</th>\n",
       "      <th>DRI</th>\n",
       "      <th>DEF</th>\n",
       "      <th>PHY</th>\n",
       "      <th>Hits</th>\n",
       "    </tr>\n",
       "  </thead>\n",
       "  <tbody>\n",
       "    <tr>\n",
       "      <th>0</th>\n",
       "      <td>158023</td>\n",
       "      <td>Lionel Messi</td>\n",
       "      <td>https://cdn.sofifa.com/players/158/023/21_60.png</td>\n",
       "      <td>http://sofifa.com/player/158023/lionel-messi/2...</td>\n",
       "      <td>Argentina</td>\n",
       "      <td>33</td>\n",
       "      <td>93</td>\n",
       "      <td>93</td>\n",
       "      <td>FC Barcelona</td>\n",
       "      <td>2004 ~ 2021</td>\n",
       "      <td>...</td>\n",
       "      <td>Medium</td>\n",
       "      <td>Low</td>\n",
       "      <td>5</td>\n",
       "      <td>85</td>\n",
       "      <td>92</td>\n",
       "      <td>91</td>\n",
       "      <td>95</td>\n",
       "      <td>38</td>\n",
       "      <td>65</td>\n",
       "      <td>771</td>\n",
       "    </tr>\n",
       "    <tr>\n",
       "      <th>1</th>\n",
       "      <td>20801</td>\n",
       "      <td>C. Ronaldo dos Santos Aveiro</td>\n",
       "      <td>https://cdn.sofifa.com/players/020/801/21_60.png</td>\n",
       "      <td>http://sofifa.com/player/20801/c-ronaldo-dos-s...</td>\n",
       "      <td>Portugal</td>\n",
       "      <td>35</td>\n",
       "      <td>92</td>\n",
       "      <td>92</td>\n",
       "      <td>Juventus</td>\n",
       "      <td>2018 ~ 2022</td>\n",
       "      <td>...</td>\n",
       "      <td>High</td>\n",
       "      <td>Low</td>\n",
       "      <td>5</td>\n",
       "      <td>89</td>\n",
       "      <td>93</td>\n",
       "      <td>81</td>\n",
       "      <td>89</td>\n",
       "      <td>35</td>\n",
       "      <td>77</td>\n",
       "      <td>562</td>\n",
       "    </tr>\n",
       "    <tr>\n",
       "      <th>2</th>\n",
       "      <td>200389</td>\n",
       "      <td>Jan Oblak</td>\n",
       "      <td>https://cdn.sofifa.com/players/200/389/21_60.png</td>\n",
       "      <td>http://sofifa.com/player/200389/jan-oblak/210006/</td>\n",
       "      <td>Slovenia</td>\n",
       "      <td>27</td>\n",
       "      <td>91</td>\n",
       "      <td>93</td>\n",
       "      <td>Atlético Madrid</td>\n",
       "      <td>2014 ~ 2023</td>\n",
       "      <td>...</td>\n",
       "      <td>Medium</td>\n",
       "      <td>Medium</td>\n",
       "      <td>3</td>\n",
       "      <td>87</td>\n",
       "      <td>92</td>\n",
       "      <td>78</td>\n",
       "      <td>90</td>\n",
       "      <td>52</td>\n",
       "      <td>90</td>\n",
       "      <td>150</td>\n",
       "    </tr>\n",
       "    <tr>\n",
       "      <th>3</th>\n",
       "      <td>192985</td>\n",
       "      <td>Kevin De Bruyne</td>\n",
       "      <td>https://cdn.sofifa.com/players/192/985/21_60.png</td>\n",
       "      <td>http://sofifa.com/player/192985/kevin-de-bruyn...</td>\n",
       "      <td>Belgium</td>\n",
       "      <td>29</td>\n",
       "      <td>91</td>\n",
       "      <td>91</td>\n",
       "      <td>Manchester City</td>\n",
       "      <td>2015 ~ 2023</td>\n",
       "      <td>...</td>\n",
       "      <td>High</td>\n",
       "      <td>High</td>\n",
       "      <td>4</td>\n",
       "      <td>76</td>\n",
       "      <td>86</td>\n",
       "      <td>93</td>\n",
       "      <td>88</td>\n",
       "      <td>64</td>\n",
       "      <td>78</td>\n",
       "      <td>207</td>\n",
       "    </tr>\n",
       "    <tr>\n",
       "      <th>4</th>\n",
       "      <td>190871</td>\n",
       "      <td>Neymar da Silva Santos Jr.</td>\n",
       "      <td>https://cdn.sofifa.com/players/190/871/21_60.png</td>\n",
       "      <td>http://sofifa.com/player/190871/neymar-da-silv...</td>\n",
       "      <td>Brazil</td>\n",
       "      <td>28</td>\n",
       "      <td>91</td>\n",
       "      <td>91</td>\n",
       "      <td>Paris Saint-Germain</td>\n",
       "      <td>2017 ~ 2022</td>\n",
       "      <td>...</td>\n",
       "      <td>High</td>\n",
       "      <td>Medium</td>\n",
       "      <td>5</td>\n",
       "      <td>91</td>\n",
       "      <td>85</td>\n",
       "      <td>86</td>\n",
       "      <td>94</td>\n",
       "      <td>36</td>\n",
       "      <td>59</td>\n",
       "      <td>595</td>\n",
       "    </tr>\n",
       "  </tbody>\n",
       "</table>\n",
       "<p>5 rows × 76 columns</p>\n",
       "</div>"
      ],
      "text/plain": [
       "       ID                      LongName  \\\n",
       "0  158023                  Lionel Messi   \n",
       "1   20801  C. Ronaldo dos Santos Aveiro   \n",
       "2  200389                     Jan Oblak   \n",
       "3  192985               Kevin De Bruyne   \n",
       "4  190871    Neymar da Silva Santos Jr.   \n",
       "\n",
       "                                           photoUrl  \\\n",
       "0  https://cdn.sofifa.com/players/158/023/21_60.png   \n",
       "1  https://cdn.sofifa.com/players/020/801/21_60.png   \n",
       "2  https://cdn.sofifa.com/players/200/389/21_60.png   \n",
       "3  https://cdn.sofifa.com/players/192/985/21_60.png   \n",
       "4  https://cdn.sofifa.com/players/190/871/21_60.png   \n",
       "\n",
       "                                           playerUrl Nationality  Age  OVA  \\\n",
       "0  http://sofifa.com/player/158023/lionel-messi/2...   Argentina   33   93   \n",
       "1  http://sofifa.com/player/20801/c-ronaldo-dos-s...    Portugal   35   92   \n",
       "2  http://sofifa.com/player/200389/jan-oblak/210006/    Slovenia   27   91   \n",
       "3  http://sofifa.com/player/192985/kevin-de-bruyn...     Belgium   29   91   \n",
       "4  http://sofifa.com/player/190871/neymar-da-silv...      Brazil   28   91   \n",
       "\n",
       "   POT                 Club     Contract  ...     A/W     D/W  IR PAC  SHO  \\\n",
       "0   93         FC Barcelona  2004 ~ 2021  ...  Medium     Low  5   85   92   \n",
       "1   92             Juventus  2018 ~ 2022  ...    High     Low  5   89   93   \n",
       "2   93      Atlético Madrid  2014 ~ 2023  ...  Medium  Medium  3   87   92   \n",
       "3   91      Manchester City  2015 ~ 2023  ...    High    High  4   76   86   \n",
       "4   91  Paris Saint-Germain  2017 ~ 2022  ...    High  Medium  5   91   85   \n",
       "\n",
       "  PAS DRI DEF  PHY  Hits  \n",
       "0  91  95  38   65   771  \n",
       "1  81  89  35   77   562  \n",
       "2  78  90  52   90   150  \n",
       "3  93  88  64   78   207  \n",
       "4  86  94  36   59   595  \n",
       "\n",
       "[5 rows x 76 columns]"
      ]
     },
     "execution_count": 82,
     "metadata": {},
     "output_type": "execute_result"
    }
   ],
   "source": [
    "fifa.head()"
   ]
  },
  {
   "cell_type": "code",
   "execution_count": null,
   "id": "7d34c8e7",
   "metadata": {},
   "outputs": [],
   "source": []
  },
  {
   "cell_type": "code",
   "execution_count": 83,
   "id": "3ef8036b",
   "metadata": {},
   "outputs": [
    {
     "data": {
      "text/html": [
       "<div>\n",
       "<style scoped>\n",
       "    .dataframe tbody tr th:only-of-type {\n",
       "        vertical-align: middle;\n",
       "    }\n",
       "\n",
       "    .dataframe tbody tr th {\n",
       "        vertical-align: top;\n",
       "    }\n",
       "\n",
       "    .dataframe thead th {\n",
       "        text-align: right;\n",
       "    }\n",
       "</style>\n",
       "<table border=\"1\" class=\"dataframe\">\n",
       "  <thead>\n",
       "    <tr style=\"text-align: right;\">\n",
       "      <th></th>\n",
       "      <th>PAC</th>\n",
       "      <th>SHO</th>\n",
       "      <th>PAS</th>\n",
       "      <th>DRI</th>\n",
       "      <th>DEF</th>\n",
       "      <th>PHY</th>\n",
       "    </tr>\n",
       "  </thead>\n",
       "  <tbody>\n",
       "    <tr>\n",
       "      <th>count</th>\n",
       "      <td>18979.000000</td>\n",
       "      <td>18979.000000</td>\n",
       "      <td>18979.000000</td>\n",
       "      <td>18979.000000</td>\n",
       "      <td>18979.000000</td>\n",
       "      <td>18979.000000</td>\n",
       "    </tr>\n",
       "    <tr>\n",
       "      <th>mean</th>\n",
       "      <td>67.453975</td>\n",
       "      <td>53.457031</td>\n",
       "      <td>57.681016</td>\n",
       "      <td>62.875020</td>\n",
       "      <td>49.866221</td>\n",
       "      <td>64.368934</td>\n",
       "    </tr>\n",
       "    <tr>\n",
       "      <th>std</th>\n",
       "      <td>10.677859</td>\n",
       "      <td>13.827425</td>\n",
       "      <td>10.081857</td>\n",
       "      <td>9.927415</td>\n",
       "      <td>16.443213</td>\n",
       "      <td>9.601883</td>\n",
       "    </tr>\n",
       "    <tr>\n",
       "      <th>min</th>\n",
       "      <td>25.000000</td>\n",
       "      <td>16.000000</td>\n",
       "      <td>25.000000</td>\n",
       "      <td>25.000000</td>\n",
       "      <td>12.000000</td>\n",
       "      <td>28.000000</td>\n",
       "    </tr>\n",
       "    <tr>\n",
       "      <th>25%</th>\n",
       "      <td>61.000000</td>\n",
       "      <td>44.000000</td>\n",
       "      <td>51.000000</td>\n",
       "      <td>57.000000</td>\n",
       "      <td>35.000000</td>\n",
       "      <td>58.000000</td>\n",
       "    </tr>\n",
       "    <tr>\n",
       "      <th>50%</th>\n",
       "      <td>68.000000</td>\n",
       "      <td>56.000000</td>\n",
       "      <td>58.000000</td>\n",
       "      <td>64.000000</td>\n",
       "      <td>53.000000</td>\n",
       "      <td>65.000000</td>\n",
       "    </tr>\n",
       "    <tr>\n",
       "      <th>75%</th>\n",
       "      <td>75.000000</td>\n",
       "      <td>64.000000</td>\n",
       "      <td>64.000000</td>\n",
       "      <td>69.000000</td>\n",
       "      <td>63.000000</td>\n",
       "      <td>71.000000</td>\n",
       "    </tr>\n",
       "    <tr>\n",
       "      <th>max</th>\n",
       "      <td>96.000000</td>\n",
       "      <td>93.000000</td>\n",
       "      <td>93.000000</td>\n",
       "      <td>95.000000</td>\n",
       "      <td>91.000000</td>\n",
       "      <td>91.000000</td>\n",
       "    </tr>\n",
       "  </tbody>\n",
       "</table>\n",
       "</div>"
      ],
      "text/plain": [
       "                PAC           SHO           PAS           DRI           DEF  \\\n",
       "count  18979.000000  18979.000000  18979.000000  18979.000000  18979.000000   \n",
       "mean      67.453975     53.457031     57.681016     62.875020     49.866221   \n",
       "std       10.677859     13.827425     10.081857      9.927415     16.443213   \n",
       "min       25.000000     16.000000     25.000000     25.000000     12.000000   \n",
       "25%       61.000000     44.000000     51.000000     57.000000     35.000000   \n",
       "50%       68.000000     56.000000     58.000000     64.000000     53.000000   \n",
       "75%       75.000000     64.000000     64.000000     69.000000     63.000000   \n",
       "max       96.000000     93.000000     93.000000     95.000000     91.000000   \n",
       "\n",
       "                PHY  \n",
       "count  18979.000000  \n",
       "mean      64.368934  \n",
       "std        9.601883  \n",
       "min       28.000000  \n",
       "25%       58.000000  \n",
       "50%       65.000000  \n",
       "75%       71.000000  \n",
       "max       91.000000  "
      ]
     },
     "execution_count": 83,
     "metadata": {},
     "output_type": "execute_result"
    }
   ],
   "source": [
    "#trying to check for anomalies in any of this set of columns through their stats, instead of going through them one by one\n",
    "fifa[['PAC', 'SHO', 'PAS','DRI', 'DEF', 'PHY']].describe()"
   ]
  },
  {
   "cell_type": "code",
   "execution_count": null,
   "id": "192ebfd2",
   "metadata": {},
   "outputs": [],
   "source": []
  },
  {
   "cell_type": "markdown",
   "id": "4e7d4401",
   "metadata": {},
   "source": [
    "Final chaeck through the dataset"
   ]
  },
  {
   "cell_type": "code",
   "execution_count": 84,
   "id": "33e81884",
   "metadata": {},
   "outputs": [
    {
     "data": {
      "text/html": [
       "<div>\n",
       "<style scoped>\n",
       "    .dataframe tbody tr th:only-of-type {\n",
       "        vertical-align: middle;\n",
       "    }\n",
       "\n",
       "    .dataframe tbody tr th {\n",
       "        vertical-align: top;\n",
       "    }\n",
       "\n",
       "    .dataframe thead th {\n",
       "        text-align: right;\n",
       "    }\n",
       "</style>\n",
       "<table border=\"1\" class=\"dataframe\">\n",
       "  <thead>\n",
       "    <tr style=\"text-align: right;\">\n",
       "      <th></th>\n",
       "      <th>ID</th>\n",
       "      <th>LongName</th>\n",
       "      <th>photoUrl</th>\n",
       "      <th>playerUrl</th>\n",
       "      <th>Nationality</th>\n",
       "      <th>Age</th>\n",
       "      <th>OVA</th>\n",
       "      <th>POT</th>\n",
       "      <th>Club</th>\n",
       "      <th>Contract</th>\n",
       "      <th>...</th>\n",
       "      <th>A/W</th>\n",
       "      <th>D/W</th>\n",
       "      <th>IR</th>\n",
       "      <th>PAC</th>\n",
       "      <th>SHO</th>\n",
       "      <th>PAS</th>\n",
       "      <th>DRI</th>\n",
       "      <th>DEF</th>\n",
       "      <th>PHY</th>\n",
       "      <th>Hits</th>\n",
       "    </tr>\n",
       "  </thead>\n",
       "  <tbody>\n",
       "    <tr>\n",
       "      <th>0</th>\n",
       "      <td>158023</td>\n",
       "      <td>Lionel Messi</td>\n",
       "      <td>https://cdn.sofifa.com/players/158/023/21_60.png</td>\n",
       "      <td>http://sofifa.com/player/158023/lionel-messi/2...</td>\n",
       "      <td>Argentina</td>\n",
       "      <td>33</td>\n",
       "      <td>93</td>\n",
       "      <td>93</td>\n",
       "      <td>FC Barcelona</td>\n",
       "      <td>2004 ~ 2021</td>\n",
       "      <td>...</td>\n",
       "      <td>Medium</td>\n",
       "      <td>Low</td>\n",
       "      <td>5</td>\n",
       "      <td>85</td>\n",
       "      <td>92</td>\n",
       "      <td>91</td>\n",
       "      <td>95</td>\n",
       "      <td>38</td>\n",
       "      <td>65</td>\n",
       "      <td>771</td>\n",
       "    </tr>\n",
       "    <tr>\n",
       "      <th>1</th>\n",
       "      <td>20801</td>\n",
       "      <td>C. Ronaldo dos Santos Aveiro</td>\n",
       "      <td>https://cdn.sofifa.com/players/020/801/21_60.png</td>\n",
       "      <td>http://sofifa.com/player/20801/c-ronaldo-dos-s...</td>\n",
       "      <td>Portugal</td>\n",
       "      <td>35</td>\n",
       "      <td>92</td>\n",
       "      <td>92</td>\n",
       "      <td>Juventus</td>\n",
       "      <td>2018 ~ 2022</td>\n",
       "      <td>...</td>\n",
       "      <td>High</td>\n",
       "      <td>Low</td>\n",
       "      <td>5</td>\n",
       "      <td>89</td>\n",
       "      <td>93</td>\n",
       "      <td>81</td>\n",
       "      <td>89</td>\n",
       "      <td>35</td>\n",
       "      <td>77</td>\n",
       "      <td>562</td>\n",
       "    </tr>\n",
       "    <tr>\n",
       "      <th>2</th>\n",
       "      <td>200389</td>\n",
       "      <td>Jan Oblak</td>\n",
       "      <td>https://cdn.sofifa.com/players/200/389/21_60.png</td>\n",
       "      <td>http://sofifa.com/player/200389/jan-oblak/210006/</td>\n",
       "      <td>Slovenia</td>\n",
       "      <td>27</td>\n",
       "      <td>91</td>\n",
       "      <td>93</td>\n",
       "      <td>Atlético Madrid</td>\n",
       "      <td>2014 ~ 2023</td>\n",
       "      <td>...</td>\n",
       "      <td>Medium</td>\n",
       "      <td>Medium</td>\n",
       "      <td>3</td>\n",
       "      <td>87</td>\n",
       "      <td>92</td>\n",
       "      <td>78</td>\n",
       "      <td>90</td>\n",
       "      <td>52</td>\n",
       "      <td>90</td>\n",
       "      <td>150</td>\n",
       "    </tr>\n",
       "    <tr>\n",
       "      <th>3</th>\n",
       "      <td>192985</td>\n",
       "      <td>Kevin De Bruyne</td>\n",
       "      <td>https://cdn.sofifa.com/players/192/985/21_60.png</td>\n",
       "      <td>http://sofifa.com/player/192985/kevin-de-bruyn...</td>\n",
       "      <td>Belgium</td>\n",
       "      <td>29</td>\n",
       "      <td>91</td>\n",
       "      <td>91</td>\n",
       "      <td>Manchester City</td>\n",
       "      <td>2015 ~ 2023</td>\n",
       "      <td>...</td>\n",
       "      <td>High</td>\n",
       "      <td>High</td>\n",
       "      <td>4</td>\n",
       "      <td>76</td>\n",
       "      <td>86</td>\n",
       "      <td>93</td>\n",
       "      <td>88</td>\n",
       "      <td>64</td>\n",
       "      <td>78</td>\n",
       "      <td>207</td>\n",
       "    </tr>\n",
       "    <tr>\n",
       "      <th>4</th>\n",
       "      <td>190871</td>\n",
       "      <td>Neymar da Silva Santos Jr.</td>\n",
       "      <td>https://cdn.sofifa.com/players/190/871/21_60.png</td>\n",
       "      <td>http://sofifa.com/player/190871/neymar-da-silv...</td>\n",
       "      <td>Brazil</td>\n",
       "      <td>28</td>\n",
       "      <td>91</td>\n",
       "      <td>91</td>\n",
       "      <td>Paris Saint-Germain</td>\n",
       "      <td>2017 ~ 2022</td>\n",
       "      <td>...</td>\n",
       "      <td>High</td>\n",
       "      <td>Medium</td>\n",
       "      <td>5</td>\n",
       "      <td>91</td>\n",
       "      <td>85</td>\n",
       "      <td>86</td>\n",
       "      <td>94</td>\n",
       "      <td>36</td>\n",
       "      <td>59</td>\n",
       "      <td>595</td>\n",
       "    </tr>\n",
       "  </tbody>\n",
       "</table>\n",
       "<p>5 rows × 76 columns</p>\n",
       "</div>"
      ],
      "text/plain": [
       "       ID                      LongName  \\\n",
       "0  158023                  Lionel Messi   \n",
       "1   20801  C. Ronaldo dos Santos Aveiro   \n",
       "2  200389                     Jan Oblak   \n",
       "3  192985               Kevin De Bruyne   \n",
       "4  190871    Neymar da Silva Santos Jr.   \n",
       "\n",
       "                                           photoUrl  \\\n",
       "0  https://cdn.sofifa.com/players/158/023/21_60.png   \n",
       "1  https://cdn.sofifa.com/players/020/801/21_60.png   \n",
       "2  https://cdn.sofifa.com/players/200/389/21_60.png   \n",
       "3  https://cdn.sofifa.com/players/192/985/21_60.png   \n",
       "4  https://cdn.sofifa.com/players/190/871/21_60.png   \n",
       "\n",
       "                                           playerUrl Nationality  Age  OVA  \\\n",
       "0  http://sofifa.com/player/158023/lionel-messi/2...   Argentina   33   93   \n",
       "1  http://sofifa.com/player/20801/c-ronaldo-dos-s...    Portugal   35   92   \n",
       "2  http://sofifa.com/player/200389/jan-oblak/210006/    Slovenia   27   91   \n",
       "3  http://sofifa.com/player/192985/kevin-de-bruyn...     Belgium   29   91   \n",
       "4  http://sofifa.com/player/190871/neymar-da-silv...      Brazil   28   91   \n",
       "\n",
       "   POT                 Club     Contract  ...     A/W     D/W  IR PAC  SHO  \\\n",
       "0   93         FC Barcelona  2004 ~ 2021  ...  Medium     Low  5   85   92   \n",
       "1   92             Juventus  2018 ~ 2022  ...    High     Low  5   89   93   \n",
       "2   93      Atlético Madrid  2014 ~ 2023  ...  Medium  Medium  3   87   92   \n",
       "3   91      Manchester City  2015 ~ 2023  ...    High    High  4   76   86   \n",
       "4   91  Paris Saint-Germain  2017 ~ 2022  ...    High  Medium  5   91   85   \n",
       "\n",
       "  PAS DRI DEF  PHY  Hits  \n",
       "0  91  95  38   65   771  \n",
       "1  81  89  35   77   562  \n",
       "2  78  90  52   90   150  \n",
       "3  93  88  64   78   207  \n",
       "4  86  94  36   59   595  \n",
       "\n",
       "[5 rows x 76 columns]"
      ]
     },
     "execution_count": 84,
     "metadata": {},
     "output_type": "execute_result"
    }
   ],
   "source": [
    "fifa.head()"
   ]
  },
  {
   "cell_type": "code",
   "execution_count": 85,
   "id": "b16e75a0",
   "metadata": {},
   "outputs": [
    {
     "name": "stdout",
     "output_type": "stream",
     "text": [
      "<class 'pandas.core.frame.DataFrame'>\n",
      "RangeIndex: 18979 entries, 0 to 18978\n",
      "Data columns (total 76 columns):\n",
      " #   Column            Non-Null Count  Dtype   \n",
      "---  ------            --------------  -----   \n",
      " 0   ID                18979 non-null  int64   \n",
      " 1   LongName          18979 non-null  object  \n",
      " 2   photoUrl          18979 non-null  object  \n",
      " 3   playerUrl         18979 non-null  object  \n",
      " 4   Nationality       18979 non-null  object  \n",
      " 5   Age               18979 non-null  int64   \n",
      " 6   OVA               18979 non-null  int64   \n",
      " 7   POT               18979 non-null  int64   \n",
      " 8   Club              18979 non-null  object  \n",
      " 9   Contract          18979 non-null  object  \n",
      " 10  Positions         18979 non-null  object  \n",
      " 11  Height            18979 non-null  float64 \n",
      " 12  Weight            18979 non-null  float64 \n",
      " 13  Preferred Foot    18979 non-null  category\n",
      " 14  BOV               18979 non-null  int64   \n",
      " 15  Best Position     18979 non-null  category\n",
      " 16  Joined            18979 non-null  object  \n",
      " 17  Loan Date End     18979 non-null  object  \n",
      " 18  Value             18979 non-null  float64 \n",
      " 19  Wage              18979 non-null  float64 \n",
      " 20  Release Clause    18979 non-null  float64 \n",
      " 21  Attacking         18979 non-null  int64   \n",
      " 22  Crossing          18979 non-null  int64   \n",
      " 23  Finishing         18979 non-null  int64   \n",
      " 24  Heading Accuracy  18979 non-null  int64   \n",
      " 25  Short Passing     18979 non-null  int64   \n",
      " 26  Volleys           18979 non-null  int64   \n",
      " 27  Skill             18979 non-null  int64   \n",
      " 28  Dribbling         18979 non-null  int64   \n",
      " 29  Curve             18979 non-null  int64   \n",
      " 30  FK Accuracy       18979 non-null  int64   \n",
      " 31  Long Passing      18979 non-null  int64   \n",
      " 32  Ball Control      18979 non-null  int64   \n",
      " 33  Movement          18979 non-null  int64   \n",
      " 34  Acceleration      18979 non-null  int64   \n",
      " 35  Sprint Speed      18979 non-null  int64   \n",
      " 36  Agility           18979 non-null  int64   \n",
      " 37  Reactions         18979 non-null  int64   \n",
      " 38  Balance           18979 non-null  int64   \n",
      " 39  Power             18979 non-null  int64   \n",
      " 40  Shot Power        18979 non-null  int64   \n",
      " 41  Jumping           18979 non-null  int64   \n",
      " 42  Stamina           18979 non-null  int64   \n",
      " 43  Strength          18979 non-null  int64   \n",
      " 44  Long Shots        18979 non-null  int64   \n",
      " 45  Mentality         18979 non-null  int64   \n",
      " 46  Aggression        18979 non-null  int64   \n",
      " 47  Interceptions     18979 non-null  int64   \n",
      " 48  Positioning       18979 non-null  int64   \n",
      " 49  Vision            18979 non-null  int64   \n",
      " 50  Penalties         18979 non-null  int64   \n",
      " 51  Composure         18979 non-null  int64   \n",
      " 52  Defending         18979 non-null  int64   \n",
      " 53  Marking           18979 non-null  int64   \n",
      " 54  Standing Tackle   18979 non-null  int64   \n",
      " 55  Sliding Tackle    18979 non-null  int64   \n",
      " 56  Goalkeeping       18979 non-null  int64   \n",
      " 57  GK Diving         18979 non-null  int64   \n",
      " 58  GK Handling       18979 non-null  int64   \n",
      " 59  GK Kicking        18979 non-null  int64   \n",
      " 60  GK Positioning    18979 non-null  int64   \n",
      " 61  GK Reflexes       18979 non-null  int64   \n",
      " 62  Total Stats       18979 non-null  int64   \n",
      " 63  Base Stats        18979 non-null  int64   \n",
      " 64  W/F               18979 non-null  object  \n",
      " 65  SM                18979 non-null  object  \n",
      " 66  A/W               18979 non-null  category\n",
      " 67  D/W               18979 non-null  category\n",
      " 68  IR                18979 non-null  object  \n",
      " 69  PAC               18979 non-null  int64   \n",
      " 70  SHO               18979 non-null  int64   \n",
      " 71  PAS               18979 non-null  int64   \n",
      " 72  DRI               18979 non-null  int64   \n",
      " 73  DEF               18979 non-null  int64   \n",
      " 74  PHY               18979 non-null  int64   \n",
      " 75  Hits              18979 non-null  object  \n",
      "dtypes: category(4), float64(5), int64(54), object(13)\n",
      "memory usage: 10.5+ MB\n"
     ]
    }
   ],
   "source": [
    "fifa.info()"
   ]
  },
  {
   "cell_type": "markdown",
   "id": "142f8b00",
   "metadata": {},
   "source": [
    "# We're done"
   ]
  }
 ],
 "metadata": {
  "kernelspec": {
   "display_name": "Python 3 (ipykernel)",
   "language": "python",
   "name": "python3"
  },
  "language_info": {
   "codemirror_mode": {
    "name": "ipython",
    "version": 3
   },
   "file_extension": ".py",
   "mimetype": "text/x-python",
   "name": "python",
   "nbconvert_exporter": "python",
   "pygments_lexer": "ipython3",
   "version": "3.9.12"
  }
 },
 "nbformat": 4,
 "nbformat_minor": 5
}
